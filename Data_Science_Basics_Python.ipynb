{
  "nbformat": 4,
  "nbformat_minor": 0,
  "metadata": {
    "colab": {
      "name": "Data Science Basics Python.ipynb",
      "provenance": [],
      "collapsed_sections": [],
      "authorship_tag": "ABX9TyNuLBxwm4LU79Ua+aVAFMbU",
      "include_colab_link": true
    },
    "kernelspec": {
      "name": "python3",
      "display_name": "Python 3"
    },
    "language_info": {
      "name": "python"
    }
  },
  "cells": [
    {
      "cell_type": "markdown",
      "metadata": {
        "id": "view-in-github",
        "colab_type": "text"
      },
      "source": [
        "<a href=\"https://colab.research.google.com/github/Harshmandviya/Data-science/blob/main/Data_Science_Basics_Python.ipynb\" target=\"_parent\"><img src=\"https://colab.research.google.com/assets/colab-badge.svg\" alt=\"Open In Colab\"/></a>"
      ]
    },
    {
      "cell_type": "code",
      "execution_count": 1,
      "metadata": {
        "colab": {
          "base_uri": "https://localhost:8080/"
        },
        "id": "bWroAJvRVZbR",
        "outputId": "05f20f94-cda7-43cc-a686-7ac9d2281deb"
      },
      "outputs": [
        {
          "output_type": "stream",
          "name": "stdout",
          "text": [
            "hello pepcoding\n"
          ]
        }
      ],
      "source": [
        "print(\"hello pepcoding\")"
      ]
    },
    {
      "cell_type": "markdown",
      "source": [
        "No need to give datatype i python to assign values to variables"
      ],
      "metadata": {
        "id": "551HAjS5K_yA"
      }
    },
    {
      "cell_type": "code",
      "source": [
        "num=10"
      ],
      "metadata": {
        "id": "nEuT1LkJVihY"
      },
      "execution_count": 2,
      "outputs": []
    },
    {
      "cell_type": "code",
      "source": [
        "string=\"Pepcoding\""
      ],
      "metadata": {
        "id": "OhONLtEfV0n8"
      },
      "execution_count": 3,
      "outputs": []
    },
    {
      "cell_type": "code",
      "source": [
        "flt=2.2"
      ],
      "metadata": {
        "id": "62SVZR1qV4nT"
      },
      "execution_count": 4,
      "outputs": []
    },
    {
      "cell_type": "code",
      "source": [
        "print(type(string))\n",
        "print(type(flt))"
      ],
      "metadata": {
        "colab": {
          "base_uri": "https://localhost:8080/"
        },
        "id": "WiG7IUivWDPx",
        "outputId": "e825097d-b63a-4420-d3c2-dee27759525b"
      },
      "execution_count": 5,
      "outputs": [
        {
          "output_type": "stream",
          "name": "stdout",
          "text": [
            "<class 'str'>\n",
            "<class 'float'>\n"
          ]
        }
      ]
    },
    {
      "cell_type": "code",
      "source": [
        "print(type(num),type(string),type(flt))"
      ],
      "metadata": {
        "colab": {
          "base_uri": "https://localhost:8080/"
        },
        "id": "9XvdByQEWLf3",
        "outputId": "7febc436-90aa-449f-c975-0bbed95c19f1"
      },
      "execution_count": 6,
      "outputs": [
        {
          "output_type": "stream",
          "name": "stdout",
          "text": [
            "<class 'int'> <class 'str'> <class 'float'>\n"
          ]
        }
      ]
    },
    {
      "cell_type": "code",
      "source": [
        "a,b,c=10,20,30"
      ],
      "metadata": {
        "id": "fbIO5SzMWd0k"
      },
      "execution_count": 7,
      "outputs": []
    },
    {
      "cell_type": "code",
      "source": [
        "a=b=c=50\n"
      ],
      "metadata": {
        "id": "neQmlsOzWzjd"
      },
      "execution_count": 8,
      "outputs": []
    },
    {
      "cell_type": "code",
      "source": [
        "print(a,b,c)"
      ],
      "metadata": {
        "colab": {
          "base_uri": "https://localhost:8080/"
        },
        "id": "F9acNIKbW2zq",
        "outputId": "3301bcbb-1372-4ac1-a5b0-4f6664d097d6"
      },
      "execution_count": 9,
      "outputs": [
        {
          "output_type": "stream",
          "name": "stdout",
          "text": [
            "50 50 50\n"
          ]
        }
      ]
    },
    {
      "cell_type": "code",
      "source": [
        "import keyword\n",
        "print(keyword.kwlist)"
      ],
      "metadata": {
        "colab": {
          "base_uri": "https://localhost:8080/"
        },
        "id": "p0Ez27xQXA-v",
        "outputId": "052765a2-97f1-4f97-c5aa-38b2f5ad1ea3"
      },
      "execution_count": 10,
      "outputs": [
        {
          "output_type": "stream",
          "name": "stdout",
          "text": [
            "['False', 'None', 'True', 'and', 'as', 'assert', 'async', 'await', 'break', 'class', 'continue', 'def', 'del', 'elif', 'else', 'except', 'finally', 'for', 'from', 'global', 'if', 'import', 'in', 'is', 'lambda', 'nonlocal', 'not', 'or', 'pass', 'raise', 'return', 'try', 'while', 'with', 'yield']\n"
          ]
        }
      ]
    },
    {
      "cell_type": "code",
      "source": [
        "import keyword\n",
        "print(keyword.kwlist)"
      ],
      "metadata": {
        "colab": {
          "base_uri": "https://localhost:8080/"
        },
        "id": "njC9UoKLXLv5",
        "outputId": "f9e0a16b-2050-4892-ca4f-3c4d5d0933ae"
      },
      "execution_count": 11,
      "outputs": [
        {
          "output_type": "stream",
          "name": "stdout",
          "text": [
            "['False', 'None', 'True', 'and', 'as', 'assert', 'async', 'await', 'break', 'class', 'continue', 'def', 'del', 'elif', 'else', 'except', 'finally', 'for', 'from', 'global', 'if', 'import', 'in', 'is', 'lambda', 'nonlocal', 'not', 'or', 'pass', 'raise', 'return', 'try', 'while', 'with', 'yield']\n"
          ]
        }
      ]
    },
    {
      "cell_type": "code",
      "source": [
        "a,b,c=10,20,50\n",
        "print(a,b,c)"
      ],
      "metadata": {
        "colab": {
          "base_uri": "https://localhost:8080/"
        },
        "id": "QamOJ4ooXRrP",
        "outputId": "8e940871-cbca-44d9-9ded-3b4f88cc97ca"
      },
      "execution_count": 12,
      "outputs": [
        {
          "output_type": "stream",
          "name": "stdout",
          "text": [
            "10 20 50\n"
          ]
        }
      ]
    },
    {
      "cell_type": "code",
      "source": [
        "num1=10\n",
        "num2=10+20j\n",
        "num3=20+12\n",
        "print(num1,num3,num2)"
      ],
      "metadata": {
        "colab": {
          "base_uri": "https://localhost:8080/"
        },
        "id": "GoKOK47IXXSs",
        "outputId": "d7abfefb-f5ac-489e-d43b-ae883d4d1a8a"
      },
      "execution_count": 13,
      "outputs": [
        {
          "output_type": "stream",
          "name": "stdout",
          "text": [
            "10 32 (10+20j)\n"
          ]
        }
      ]
    },
    {
      "cell_type": "markdown",
      "source": [
        ""
      ],
      "metadata": {
        "id": "XGfB8Qd7H4Ax"
      }
    },
    {
      "cell_type": "markdown",
      "source": [
        "### **String** \n",
        "\n",
        "\n",
        "**String is Immutable(cannot be changed)**"
      ],
      "metadata": {
        "id": "zHJgJaXAYCqZ"
      }
    },
    {
      "cell_type": "code",
      "source": [
        "phrase=\"pepcoding\""
      ],
      "metadata": {
        "id": "HsBVlBfQYFTL"
      },
      "execution_count": 14,
      "outputs": []
    },
    {
      "cell_type": "code",
      "source": [
        "print(phrase[0])"
      ],
      "metadata": {
        "colab": {
          "base_uri": "https://localhost:8080/"
        },
        "id": "EALMsHJmYjXl",
        "outputId": "e1bb4c7f-2536-4433-eeb0-1212368c4b74"
      },
      "execution_count": 15,
      "outputs": [
        {
          "output_type": "stream",
          "name": "stdout",
          "text": [
            "p\n"
          ]
        }
      ]
    },
    {
      "cell_type": "code",
      "source": [
        "phrase[0]='i'"
      ],
      "metadata": {
        "colab": {
          "base_uri": "https://localhost:8080/",
          "height": 166
        },
        "id": "r0NYmq80YmLD",
        "outputId": "2eb169ad-c230-4a47-bffd-e93ddafb5c66"
      },
      "execution_count": 16,
      "outputs": [
        {
          "output_type": "error",
          "ename": "TypeError",
          "evalue": "ignored",
          "traceback": [
            "\u001b[0;31m---------------------------------------------------------------------------\u001b[0m",
            "\u001b[0;31mTypeError\u001b[0m                                 Traceback (most recent call last)",
            "\u001b[0;32m<ipython-input-16-2c2bee793f88>\u001b[0m in \u001b[0;36m<module>\u001b[0;34m()\u001b[0m\n\u001b[0;32m----> 1\u001b[0;31m \u001b[0mphrase\u001b[0m\u001b[0;34m[\u001b[0m\u001b[0;36m0\u001b[0m\u001b[0;34m]\u001b[0m\u001b[0;34m=\u001b[0m\u001b[0;34m'i'\u001b[0m\u001b[0;34m\u001b[0m\u001b[0;34m\u001b[0m\u001b[0m\n\u001b[0m",
            "\u001b[0;31mTypeError\u001b[0m: 'str' object does not support item assignment"
          ]
        }
      ]
    },
    {
      "cell_type": "markdown",
      "source": [
        "**As string is immutable we cannot change the value of string once assigned**"
      ],
      "metadata": {
        "id": "NjqjtGIAYtUR"
      }
    },
    {
      "cell_type": "markdown",
      "source": [
        "### **`Slicing in Pyton`**\n",
        "\n",
        "**(start:end:step)**\n",
        "\n",
        "Here start value is included; end is excluded and step is counting\n",
        "\n",
        "When we have positive step size it should first start then end ie. When start<end ----- STEP IS GREATER THAN 0\n",
        "\n",
        "When start>end ------STEP IS LESS THAN 0\n",
        "\n",
        "Default start is 0; default end is length and Default and When step is not defined default is 1"
      ],
      "metadata": {
        "id": "Xc_FOphCZAfl"
      }
    },
    {
      "cell_type": "markdown",
      "source": [
        "012345678\n",
        "\n",
        "pepcoding"
      ],
      "metadata": {
        "id": "l6UgtgNiZHvE"
      }
    },
    {
      "cell_type": "code",
      "source": [
        "phrase[0:3]"
      ],
      "metadata": {
        "colab": {
          "base_uri": "https://localhost:8080/",
          "height": 35
        },
        "id": "YpxykQRWY_ab",
        "outputId": "a37e7aab-2e16-466a-bc45-031c24426d47"
      },
      "execution_count": 17,
      "outputs": [
        {
          "output_type": "execute_result",
          "data": {
            "application/vnd.google.colaboratory.intrinsic+json": {
              "type": "string"
            },
            "text/plain": [
              "'pep'"
            ]
          },
          "metadata": {},
          "execution_count": 17
        }
      ]
    },
    {
      "cell_type": "code",
      "source": [
        "phrase[0:]"
      ],
      "metadata": {
        "colab": {
          "base_uri": "https://localhost:8080/",
          "height": 35
        },
        "id": "OT_j7MMgZVMc",
        "outputId": "94ed2f39-21f4-4dd2-e214-12e74964309e"
      },
      "execution_count": 18,
      "outputs": [
        {
          "output_type": "execute_result",
          "data": {
            "application/vnd.google.colaboratory.intrinsic+json": {
              "type": "string"
            },
            "text/plain": [
              "'pepcoding'"
            ]
          },
          "metadata": {},
          "execution_count": 18
        }
      ]
    },
    {
      "cell_type": "code",
      "source": [
        "phrase[:]"
      ],
      "metadata": {
        "colab": {
          "base_uri": "https://localhost:8080/",
          "height": 35
        },
        "id": "KUDDx6ovZYxl",
        "outputId": "f15baf8a-eca1-4460-cd41-01b192b48c4b"
      },
      "execution_count": 19,
      "outputs": [
        {
          "output_type": "execute_result",
          "data": {
            "application/vnd.google.colaboratory.intrinsic+json": {
              "type": "string"
            },
            "text/plain": [
              "'pepcoding'"
            ]
          },
          "metadata": {},
          "execution_count": 19
        }
      ]
    },
    {
      "cell_type": "code",
      "source": [
        "phrase[:7]"
      ],
      "metadata": {
        "colab": {
          "base_uri": "https://localhost:8080/",
          "height": 35
        },
        "id": "rwb5Yf_yaTW-",
        "outputId": "d1879a71-31c8-4507-da89-3b4c9e29e65d"
      },
      "execution_count": 20,
      "outputs": [
        {
          "output_type": "execute_result",
          "data": {
            "application/vnd.google.colaboratory.intrinsic+json": {
              "type": "string"
            },
            "text/plain": [
              "'pepcodi'"
            ]
          },
          "metadata": {},
          "execution_count": 20
        }
      ]
    },
    {
      "cell_type": "code",
      "source": [
        "phrase[0:6:2]"
      ],
      "metadata": {
        "colab": {
          "base_uri": "https://localhost:8080/",
          "height": 35
        },
        "id": "ESihF_WqaX0S",
        "outputId": "6491722f-995d-4db0-a4ae-697c51cf0215"
      },
      "execution_count": 21,
      "outputs": [
        {
          "output_type": "execute_result",
          "data": {
            "application/vnd.google.colaboratory.intrinsic+json": {
              "type": "string"
            },
            "text/plain": [
              "'ppo'"
            ]
          },
          "metadata": {},
          "execution_count": 21
        }
      ]
    },
    {
      "cell_type": "code",
      "source": [
        "phrase[7:1:1]"
      ],
      "metadata": {
        "colab": {
          "base_uri": "https://localhost:8080/",
          "height": 35
        },
        "id": "VyBrZ4fja-ZO",
        "outputId": "4118765c-6c5b-44bf-d054-d33ecd377865"
      },
      "execution_count": 22,
      "outputs": [
        {
          "output_type": "execute_result",
          "data": {
            "application/vnd.google.colaboratory.intrinsic+json": {
              "type": "string"
            },
            "text/plain": [
              "''"
            ]
          },
          "metadata": {},
          "execution_count": 22
        }
      ]
    },
    {
      "cell_type": "markdown",
      "source": [
        "**There was no output here as we cannot print this,here start needs to come first and end needs to come after it.Did not find anything in this input provided**"
      ],
      "metadata": {
        "id": "1h5rSpJfbUcI"
      }
    },
    {
      "cell_type": "markdown",
      "source": [
        "**When step size is negative it should **\n",
        "\n",
        "\n",
        "**When step size is Negative it will count from backwards**\n",
        "When start>end ------STEP IS LESS THAN 0\n",
        "\n",
        "Default STEP SIZE for Negative value is -1\n",
        "\n",
        "**For Negative Step it is (end,start,step)**\n",
        "\n",
        "\n",
        "\n"
      ],
      "metadata": {
        "id": "lvRctyIWak5p"
      }
    },
    {
      "cell_type": "code",
      "source": [
        "phrase[7:1:-1]"
      ],
      "metadata": {
        "colab": {
          "base_uri": "https://localhost:8080/",
          "height": 35
        },
        "id": "KcoMe6pVbB47",
        "outputId": "9b888a94-6356-4bf3-bbd4-5e980c46608a"
      },
      "execution_count": 23,
      "outputs": [
        {
          "output_type": "execute_result",
          "data": {
            "application/vnd.google.colaboratory.intrinsic+json": {
              "type": "string"
            },
            "text/plain": [
              "'nidocp'"
            ]
          },
          "metadata": {},
          "execution_count": 23
        }
      ]
    },
    {
      "cell_type": "markdown",
      "source": [
        "-9-8-7-6-5-4-3-2-1\n",
        "\n",
        "   p  e  p  c  o  d  i  n  g\n",
        "\n",
        "**   -1 counts from behind**\n"
      ],
      "metadata": {
        "id": "XoHPi7rHdTfc"
      }
    },
    {
      "cell_type": "code",
      "source": [
        "phrase[-1]"
      ],
      "metadata": {
        "colab": {
          "base_uri": "https://localhost:8080/",
          "height": 35
        },
        "id": "-_3-q6fbd2hf",
        "outputId": "5d25e2f8-a9a6-4016-adbe-5ab9d6eab2d1"
      },
      "execution_count": 24,
      "outputs": [
        {
          "output_type": "execute_result",
          "data": {
            "application/vnd.google.colaboratory.intrinsic+json": {
              "type": "string"
            },
            "text/plain": [
              "'g'"
            ]
          },
          "metadata": {},
          "execution_count": 24
        }
      ]
    },
    {
      "cell_type": "code",
      "source": [
        "phrase[-1:-5:-1]"
      ],
      "metadata": {
        "colab": {
          "base_uri": "https://localhost:8080/",
          "height": 35
        },
        "id": "15IjQycAd5wP",
        "outputId": "38e35cb3-3349-497c-d5c9-f69393ebb651"
      },
      "execution_count": 25,
      "outputs": [
        {
          "output_type": "execute_result",
          "data": {
            "application/vnd.google.colaboratory.intrinsic+json": {
              "type": "string"
            },
            "text/plain": [
              "'gnid'"
            ]
          },
          "metadata": {},
          "execution_count": 25
        }
      ]
    },
    {
      "cell_type": "markdown",
      "source": [
        "**Reverse a String in python**\n",
        "\n",
        "Here we have added the negative step size and start and end is assumed by default. (end,start,negative step) here start is default 0 and end is length as default"
      ],
      "metadata": {
        "id": "3l_38T3UfCfS"
      }
    },
    {
      "cell_type": "code",
      "source": [
        "phrase[::-1]"
      ],
      "metadata": {
        "colab": {
          "base_uri": "https://localhost:8080/",
          "height": 35
        },
        "id": "i-aAR3Q7eFie",
        "outputId": "d76285d7-67dc-4e47-edd8-200ad4f0af89"
      },
      "execution_count": 26,
      "outputs": [
        {
          "output_type": "execute_result",
          "data": {
            "application/vnd.google.colaboratory.intrinsic+json": {
              "type": "string"
            },
            "text/plain": [
              "'gnidocpep'"
            ]
          },
          "metadata": {},
          "execution_count": 26
        }
      ]
    },
    {
      "cell_type": "markdown",
      "source": [
        "**Counting Length of phrase**"
      ],
      "metadata": {
        "id": "6iLaZ1yCgG4r"
      }
    },
    {
      "cell_type": "code",
      "source": [
        "len(phrase)"
      ],
      "metadata": {
        "colab": {
          "base_uri": "https://localhost:8080/"
        },
        "id": "AHwmKMRCfAHr",
        "outputId": "148d64cd-e63c-44b2-e22f-83dcb921795a"
      },
      "execution_count": 27,
      "outputs": [
        {
          "output_type": "execute_result",
          "data": {
            "text/plain": [
              "9"
            ]
          },
          "metadata": {},
          "execution_count": 27
        }
      ]
    },
    {
      "cell_type": "code",
      "source": [
        "phrase[-1:-9:-1]"
      ],
      "metadata": {
        "colab": {
          "base_uri": "https://localhost:8080/",
          "height": 35
        },
        "id": "3-mPRKNpgE79",
        "outputId": "6ea78f2b-405f-41ce-c567-e783e3d2fea7"
      },
      "execution_count": 28,
      "outputs": [
        {
          "output_type": "execute_result",
          "data": {
            "application/vnd.google.colaboratory.intrinsic+json": {
              "type": "string"
            },
            "text/plain": [
              "'gnidocpe'"
            ]
          },
          "metadata": {},
          "execution_count": 28
        }
      ]
    },
    {
      "cell_type": "markdown",
      "source": [
        "**For Loop in python**\n",
        "\n",
        "Here we donot take curly brackets but we need to indent the text after for loop\n"
      ],
      "metadata": {
        "id": "TM4R-0SQhxk2"
      }
    },
    {
      "cell_type": "code",
      "source": [
        "for ch in phrase:\n",
        "  print(ch)"
      ],
      "metadata": {
        "colab": {
          "base_uri": "https://localhost:8080/"
        },
        "id": "kBtv1o7piGvQ",
        "outputId": "5648aafe-dc15-4b53-8be4-b806864fe753"
      },
      "execution_count": 29,
      "outputs": [
        {
          "output_type": "stream",
          "name": "stdout",
          "text": [
            "p\n",
            "e\n",
            "p\n",
            "c\n",
            "o\n",
            "d\n",
            "i\n",
            "n\n",
            "g\n"
          ]
        }
      ]
    },
    {
      "cell_type": "markdown",
      "source": [
        "Check if a particular string in present in a particular string"
      ],
      "metadata": {
        "id": "20VACtuhidUN"
      }
    },
    {
      "cell_type": "code",
      "source": [
        "if \"pep\" in phrase:\n",
        "  print(\"found pep\")"
      ],
      "metadata": {
        "colab": {
          "base_uri": "https://localhost:8080/"
        },
        "id": "o4IvADcUis2V",
        "outputId": "c4c8483a-ff73-42c2-ea73-4f9233f8beb4"
      },
      "execution_count": 30,
      "outputs": [
        {
          "output_type": "stream",
          "name": "stdout",
          "text": [
            "found pep\n"
          ]
        }
      ]
    },
    {
      "cell_type": "markdown",
      "source": [
        "Upper case and Lower case in Python"
      ],
      "metadata": {
        "id": "gay-qwKajHRX"
      }
    },
    {
      "cell_type": "code",
      "source": [
        "phrase.upper()\n"
      ],
      "metadata": {
        "colab": {
          "base_uri": "https://localhost:8080/",
          "height": 35
        },
        "id": "8Hr5nsLGjNXl",
        "outputId": "c4f1f75c-c9b8-4cd6-be8e-63c4f4e0f001"
      },
      "execution_count": 31,
      "outputs": [
        {
          "output_type": "execute_result",
          "data": {
            "application/vnd.google.colaboratory.intrinsic+json": {
              "type": "string"
            },
            "text/plain": [
              "'PEPCODING'"
            ]
          },
          "metadata": {},
          "execution_count": 31
        }
      ]
    },
    {
      "cell_type": "code",
      "source": [
        "phrase.lower()"
      ],
      "metadata": {
        "colab": {
          "base_uri": "https://localhost:8080/",
          "height": 35
        },
        "id": "J6p_qJRpjQ5R",
        "outputId": "e5effcd6-f51f-4717-a428-329e9bbbb0a3"
      },
      "execution_count": 32,
      "outputs": [
        {
          "output_type": "execute_result",
          "data": {
            "application/vnd.google.colaboratory.intrinsic+json": {
              "type": "string"
            },
            "text/plain": [
              "'pepcoding'"
            ]
          },
          "metadata": {},
          "execution_count": 32
        }
      ]
    },
    {
      "cell_type": "markdown",
      "source": [
        "**Spliting in Python**"
      ],
      "metadata": {
        "id": "0ad1s9ohjbqN"
      }
    },
    {
      "cell_type": "code",
      "source": [
        " string=\"My name is Harsh Mandviya\"\n",
        " str2= string.split(\" \")"
      ],
      "metadata": {
        "id": "gM2fgpPyjlbO"
      },
      "execution_count": 33,
      "outputs": []
    },
    {
      "cell_type": "code",
      "source": [
        "print(str2)"
      ],
      "metadata": {
        "colab": {
          "base_uri": "https://localhost:8080/"
        },
        "id": "i_ue0-5Rj3Ns",
        "outputId": "1b17bb8b-1e61-4d97-a690-bdd4e9a89852"
      },
      "execution_count": 34,
      "outputs": [
        {
          "output_type": "stream",
          "name": "stdout",
          "text": [
            "['My', 'name', 'is', 'Harsh', 'Mandviya']\n"
          ]
        }
      ]
    },
    {
      "cell_type": "markdown",
      "source": [
        "**If- else in python**\n",
        "\n",
        "Here we dont have curly brackets and we need to do indentation\n",
        "\n",
        "\n",
        "Instead of else if, Here we have **elif**\n"
      ],
      "metadata": {
        "id": "5zw2aQ2BkAGN"
      }
    },
    {
      "cell_type": "code",
      "source": [
        "if 1>2:\n",
        "  print(\"hanji\")\n",
        "else:\n",
        "    print(\"naji\")"
      ],
      "metadata": {
        "colab": {
          "base_uri": "https://localhost:8080/"
        },
        "id": "SVFKG6L1kD4Z",
        "outputId": "cbdd2939-8a4f-44f0-a488-3da0f0a86ed6"
      },
      "execution_count": 35,
      "outputs": [
        {
          "output_type": "stream",
          "name": "stdout",
          "text": [
            "naji\n"
          ]
        }
      ]
    },
    {
      "cell_type": "code",
      "source": [
        "marks=100"
      ],
      "metadata": {
        "id": "Lic0yN6Mki4R"
      },
      "execution_count": 36,
      "outputs": []
    },
    {
      "cell_type": "code",
      "source": [
        "if marks>100:\n",
        "  print(\"excellent\")\n",
        "elif marks>90:\n",
        "  print(\"good\")\n",
        "else:\n",
        "  print(\"Pass\")"
      ],
      "metadata": {
        "colab": {
          "base_uri": "https://localhost:8080/"
        },
        "id": "B4DpWJPWkv6Q",
        "outputId": "e1843136-970d-4675-a182-b0462c5441be"
      },
      "execution_count": 37,
      "outputs": [
        {
          "output_type": "stream",
          "name": "stdout",
          "text": [
            "good\n"
          ]
        }
      ]
    },
    {
      "cell_type": "markdown",
      "source": [
        "Loops for repeatative iterations"
      ],
      "metadata": {
        "id": "8rSRqlzslquL"
      }
    },
    {
      "cell_type": "code",
      "source": [
        "for i in range(5):\n",
        " print(i)"
      ],
      "metadata": {
        "colab": {
          "base_uri": "https://localhost:8080/"
        },
        "id": "G5yCiiA7lw0a",
        "outputId": "b0ab43e9-4d89-4f3b-e9ea-a09b30667594"
      },
      "execution_count": 38,
      "outputs": [
        {
          "output_type": "stream",
          "name": "stdout",
          "text": [
            "0\n",
            "1\n",
            "2\n",
            "3\n",
            "4\n"
          ]
        }
      ]
    },
    {
      "cell_type": "code",
      "source": [
        "for i in range(2,10):\n",
        "  print(\"Hello world\")"
      ],
      "metadata": {
        "colab": {
          "base_uri": "https://localhost:8080/"
        },
        "id": "oP8-PI3UmErG",
        "outputId": "16160979-ae89-49ab-bf32-26a8702c5d2d"
      },
      "execution_count": 39,
      "outputs": [
        {
          "output_type": "stream",
          "name": "stdout",
          "text": [
            "Hello world\n",
            "Hello world\n",
            "Hello world\n",
            "Hello world\n",
            "Hello world\n",
            "Hello world\n",
            "Hello world\n",
            "Hello world\n"
          ]
        }
      ]
    },
    {
      "cell_type": "code",
      "source": [
        "for i in range(2,10,2):\n",
        "  print(i)\n"
      ],
      "metadata": {
        "colab": {
          "base_uri": "https://localhost:8080/"
        },
        "id": "dFCe_1OXmTAN",
        "outputId": "569d6753-5be1-4691-dff2-95ddf4c2874c"
      },
      "execution_count": 40,
      "outputs": [
        {
          "output_type": "stream",
          "name": "stdout",
          "text": [
            "2\n",
            "4\n",
            "6\n",
            "8\n"
          ]
        }
      ]
    },
    {
      "cell_type": "code",
      "source": [
        "for i in range(-1,-9,-1):\n",
        "  print(i)\n",
        "for j in range(5,10,2):\n",
        "  print(j)"
      ],
      "metadata": {
        "colab": {
          "base_uri": "https://localhost:8080/"
        },
        "id": "m0qoquZPmb9y",
        "outputId": "3ffe2dea-ece6-493e-901a-67b305ae75f7"
      },
      "execution_count": 41,
      "outputs": [
        {
          "output_type": "stream",
          "name": "stdout",
          "text": [
            "-1\n",
            "-2\n",
            "-3\n",
            "-4\n",
            "-5\n",
            "-6\n",
            "-7\n",
            "-8\n",
            "5\n",
            "7\n",
            "9\n"
          ]
        }
      ]
    },
    {
      "cell_type": "markdown",
      "source": [
        "Concatinating i in string"
      ],
      "metadata": {
        "id": "NjKHxclOm_VL"
      }
    },
    {
      "cell_type": "code",
      "source": [
        "for i in range(5):\n",
        "  print(i+\"hello\")"
      ],
      "metadata": {
        "colab": {
          "base_uri": "https://localhost:8080/",
          "height": 184
        },
        "id": "kXUEdRKYnDhU",
        "outputId": "55c2c697-84f8-4788-d878-8da6c2a036a3"
      },
      "execution_count": 42,
      "outputs": [
        {
          "output_type": "error",
          "ename": "TypeError",
          "evalue": "ignored",
          "traceback": [
            "\u001b[0;31m---------------------------------------------------------------------------\u001b[0m",
            "\u001b[0;31mTypeError\u001b[0m                                 Traceback (most recent call last)",
            "\u001b[0;32m<ipython-input-42-d49b5dfa0554>\u001b[0m in \u001b[0;36m<module>\u001b[0;34m()\u001b[0m\n\u001b[1;32m      1\u001b[0m \u001b[0;32mfor\u001b[0m \u001b[0mi\u001b[0m \u001b[0;32min\u001b[0m \u001b[0mrange\u001b[0m\u001b[0;34m(\u001b[0m\u001b[0;36m5\u001b[0m\u001b[0;34m)\u001b[0m\u001b[0;34m:\u001b[0m\u001b[0;34m\u001b[0m\u001b[0;34m\u001b[0m\u001b[0m\n\u001b[0;32m----> 2\u001b[0;31m   \u001b[0mprint\u001b[0m\u001b[0;34m(\u001b[0m\u001b[0mi\u001b[0m\u001b[0;34m+\u001b[0m\u001b[0;34m\"hello\"\u001b[0m\u001b[0;34m)\u001b[0m\u001b[0;34m\u001b[0m\u001b[0;34m\u001b[0m\u001b[0m\n\u001b[0m",
            "\u001b[0;31mTypeError\u001b[0m: unsupported operand type(s) for +: 'int' and 'str'"
          ]
        }
      ]
    },
    {
      "cell_type": "markdown",
      "source": [
        "Here it is showing error as i is int and hello is string so we need to convert everything into string by typecasting"
      ],
      "metadata": {
        "id": "_XHnmmO-njRm"
      }
    },
    {
      "cell_type": "code",
      "source": [
        "for i in range(5):\n",
        " print(str(i)+ \"hello\")"
      ],
      "metadata": {
        "colab": {
          "base_uri": "https://localhost:8080/"
        },
        "id": "VzPILF5nnl_K",
        "outputId": "d25294b3-ba38-467f-8ed1-d4205bd612a1"
      },
      "execution_count": 43,
      "outputs": [
        {
          "output_type": "stream",
          "name": "stdout",
          "text": [
            "0hello\n",
            "1hello\n",
            "2hello\n",
            "3hello\n",
            "4hello\n"
          ]
        }
      ]
    },
    {
      "cell_type": "markdown",
      "source": [
        "**Break and Continue in Python**"
      ],
      "metadata": {
        "id": "kxOsxGN3n5ZP"
      }
    },
    {
      "cell_type": "code",
      "source": [
        "for i in range(5):\n",
        " print(str(i)+ \"hello\")\n",
        " if(i==2):\n",
        "  break"
      ],
      "metadata": {
        "colab": {
          "base_uri": "https://localhost:8080/"
        },
        "id": "rs_5Hc3ynrq1",
        "outputId": "e0063547-dc51-44e4-b784-46315b0e6e51"
      },
      "execution_count": 44,
      "outputs": [
        {
          "output_type": "stream",
          "name": "stdout",
          "text": [
            "0hello\n",
            "1hello\n",
            "2hello\n"
          ]
        }
      ]
    },
    {
      "cell_type": "markdown",
      "source": [
        "If i==0,1,2,4 then continue and print i and hello but if i==3 then continue outside the loop"
      ],
      "metadata": {
        "id": "_M8aiV8UotBj"
      }
    },
    {
      "cell_type": "code",
      "source": [
        "for i in range(5):\n",
        "  if i == 3:\n",
        "    continue\n",
        "  print(str(i)+ \"hello\")\n"
      ],
      "metadata": {
        "colab": {
          "base_uri": "https://localhost:8080/"
        },
        "id": "Mt7_j5tloHir",
        "outputId": "d25b1c40-54ab-4e8f-8aae-f52d553edbcd"
      },
      "execution_count": 45,
      "outputs": [
        {
          "output_type": "stream",
          "name": "stdout",
          "text": [
            "0hello\n",
            "1hello\n",
            "2hello\n",
            "4hello\n"
          ]
        }
      ]
    },
    {
      "cell_type": "markdown",
      "source": [
        "**We should know these 4 Datatypes in Python:\n",
        "\n",
        "List \n",
        "\n",
        "Tuple \n",
        "\n",
        "Set \n",
        "\n",
        "Dictionary** "
      ],
      "metadata": {
        "id": "sTBE81Paps95"
      }
    },
    {
      "cell_type": "markdown",
      "source": [
        "### **List: [ ]**\n",
        "\n",
        "It is Same as Array in C++\n",
        "\n",
        "1. **Dynamically sized**-(we can add as many elements as we want whenever we want and the size need not be fixed at the start)\n",
        "\n",
        "2. **Mutable**- element can be changed \n",
        "\n",
        "3. **Ordered**- Jis order meh dala wahi order meh rehta hai\n",
        "\n",
        "4. **Not compulsory to be Homogenious** - not compulsory all elements be string or all elements be integers. variety can be present\n",
        "\n",
        "5. **Allows Duplicacy- we can store duplicate elements in list**\n",
        "\n",
        "6. **List is Heterogenious ie. Values can be of different datatypes**\n",
        "\n",
        "Negative indexing"
      ],
      "metadata": {
        "id": "-4DM2EEFqJIi"
      }
    },
    {
      "cell_type": "code",
      "source": [
        "lst=[1,2,3,4,5]\n",
        "print(type(lst))"
      ],
      "metadata": {
        "colab": {
          "base_uri": "https://localhost:8080/"
        },
        "id": "RE7vk15jolFI",
        "outputId": "60934b37-8e1a-47ef-c978-2f8e1ef1364d"
      },
      "execution_count": 46,
      "outputs": [
        {
          "output_type": "stream",
          "name": "stdout",
          "text": [
            "<class 'list'>\n"
          ]
        }
      ]
    },
    {
      "cell_type": "code",
      "source": [
        "lst.append(7,5,6)"
      ],
      "metadata": {
        "id": "VL0zJWfRrveQ",
        "colab": {
          "base_uri": "https://localhost:8080/",
          "height": 166
        },
        "outputId": "a7e4b65e-d018-4204-b48c-9170574be211"
      },
      "execution_count": 47,
      "outputs": [
        {
          "output_type": "error",
          "ename": "TypeError",
          "evalue": "ignored",
          "traceback": [
            "\u001b[0;31m---------------------------------------------------------------------------\u001b[0m",
            "\u001b[0;31mTypeError\u001b[0m                                 Traceback (most recent call last)",
            "\u001b[0;32m<ipython-input-47-e2301bbd3641>\u001b[0m in \u001b[0;36m<module>\u001b[0;34m()\u001b[0m\n\u001b[0;32m----> 1\u001b[0;31m \u001b[0mlst\u001b[0m\u001b[0;34m.\u001b[0m\u001b[0mappend\u001b[0m\u001b[0;34m(\u001b[0m\u001b[0;36m7\u001b[0m\u001b[0;34m,\u001b[0m\u001b[0;36m5\u001b[0m\u001b[0;34m,\u001b[0m\u001b[0;36m6\u001b[0m\u001b[0;34m)\u001b[0m\u001b[0;34m\u001b[0m\u001b[0;34m\u001b[0m\u001b[0m\n\u001b[0m",
            "\u001b[0;31mTypeError\u001b[0m: append() takes exactly one argument (3 given)"
          ]
        }
      ]
    },
    {
      "cell_type": "code",
      "source": [
        "lst.append(\"harsh\")"
      ],
      "metadata": {
        "id": "P52WDMvMsMUB"
      },
      "execution_count": 48,
      "outputs": []
    },
    {
      "cell_type": "markdown",
      "source": [
        "Here we can see the list is ordered and the order is not changed, the order in which we printed is same as the order we added"
      ],
      "metadata": {
        "id": "UmweusMRs6e5"
      }
    },
    {
      "cell_type": "code",
      "source": [
        "print(lst)"
      ],
      "metadata": {
        "colab": {
          "base_uri": "https://localhost:8080/"
        },
        "id": "KsgwcnvjsjXW",
        "outputId": "a7b8b8dc-31d7-4c05-b29d-296181cd8c2f"
      },
      "execution_count": 49,
      "outputs": [
        {
          "output_type": "stream",
          "name": "stdout",
          "text": [
            "[1, 2, 3, 4, 5, 'harsh']\n"
          ]
        }
      ]
    },
    {
      "cell_type": "markdown",
      "source": [
        "**Checking List is Mutable**"
      ],
      "metadata": {
        "id": "_3M_sGUqs1sJ"
      }
    },
    {
      "cell_type": "code",
      "source": [
        "lst[0]=500"
      ],
      "metadata": {
        "id": "0-4cMFfismez"
      },
      "execution_count": 50,
      "outputs": []
    },
    {
      "cell_type": "code",
      "source": [
        "print(lst)"
      ],
      "metadata": {
        "colab": {
          "base_uri": "https://localhost:8080/"
        },
        "id": "u0ADHv0WsqXt",
        "outputId": "a97a6fdb-cee1-479a-d6da-c900646c8a9f"
      },
      "execution_count": 51,
      "outputs": [
        {
          "output_type": "stream",
          "name": "stdout",
          "text": [
            "[500, 2, 3, 4, 5, 'harsh']\n"
          ]
        }
      ]
    },
    {
      "cell_type": "markdown",
      "source": [
        "**Storing list inside list** "
      ],
      "metadata": {
        "id": "KEHBnxIntVf3"
      }
    },
    {
      "cell_type": "code",
      "source": [
        "lst2 =[10,20,30]\n",
        "lst2.append(lst)"
      ],
      "metadata": {
        "id": "j_DqGph7stVb"
      },
      "execution_count": 52,
      "outputs": []
    },
    {
      "cell_type": "code",
      "source": [
        "print(lst2)"
      ],
      "metadata": {
        "colab": {
          "base_uri": "https://localhost:8080/"
        },
        "id": "fFRLTjT2thFv",
        "outputId": "99110a55-a0f2-4fee-d74f-7d70051705a8"
      },
      "execution_count": 53,
      "outputs": [
        {
          "output_type": "stream",
          "name": "stdout",
          "text": [
            "[10, 20, 30, [500, 2, 3, 4, 5, 'harsh']]\n"
          ]
        }
      ]
    },
    {
      "cell_type": "markdown",
      "source": [
        "**Duplicacy as 10 is printed again as we append**"
      ],
      "metadata": {
        "id": "lxoobkTFtyQh"
      }
    },
    {
      "cell_type": "code",
      "source": [
        "lst2.append(10)\n",
        "print(lst2)"
      ],
      "metadata": {
        "colab": {
          "base_uri": "https://localhost:8080/"
        },
        "id": "ayMGjOGttn_a",
        "outputId": "e60a39f8-0801-4b7e-c2cc-050af8a78a5a"
      },
      "execution_count": 54,
      "outputs": [
        {
          "output_type": "stream",
          "name": "stdout",
          "text": [
            "[10, 20, 30, [500, 2, 3, 4, 5, 'harsh'], 10]\n"
          ]
        }
      ]
    },
    {
      "cell_type": "markdown",
      "source": [
        "Here we can do the same functions for list as well:\n",
        "\n",
        "Slicing, indexing, looping, if else "
      ],
      "metadata": {
        "id": "gDhIMR0UuMhB"
      }
    },
    {
      "cell_type": "code",
      "source": [
        "lst[-1]\n"
      ],
      "metadata": {
        "colab": {
          "base_uri": "https://localhost:8080/",
          "height": 35
        },
        "id": "tCVuQwPcuA-s",
        "outputId": "43202798-b6cf-45ec-b226-7c6298d52a28"
      },
      "execution_count": 55,
      "outputs": [
        {
          "output_type": "execute_result",
          "data": {
            "application/vnd.google.colaboratory.intrinsic+json": {
              "type": "string"
            },
            "text/plain": [
              "'harsh'"
            ]
          },
          "metadata": {},
          "execution_count": 55
        }
      ]
    },
    {
      "cell_type": "code",
      "source": [
        "lst[0:7:2]"
      ],
      "metadata": {
        "colab": {
          "base_uri": "https://localhost:8080/"
        },
        "id": "RnYZDtI3ufX-",
        "outputId": "e59a94c0-2df6-408a-ae6b-cda560d22b51"
      },
      "execution_count": 56,
      "outputs": [
        {
          "output_type": "execute_result",
          "data": {
            "text/plain": [
              "[500, 3, 5]"
            ]
          },
          "metadata": {},
          "execution_count": 56
        }
      ]
    },
    {
      "cell_type": "markdown",
      "source": [
        "**Inserting function **"
      ],
      "metadata": {
        "id": "ZsQIOMLbuw6o"
      }
    },
    {
      "cell_type": "code",
      "source": [
        "lst.insert(2,\"pepcoding\")\n",
        "print(lst)"
      ],
      "metadata": {
        "colab": {
          "base_uri": "https://localhost:8080/"
        },
        "id": "nKY3jwq7ul_g",
        "outputId": "a598567e-0580-42d5-dd33-28216199f39d"
      },
      "execution_count": 57,
      "outputs": [
        {
          "output_type": "stream",
          "name": "stdout",
          "text": [
            "[500, 2, 'pepcoding', 3, 4, 5, 'harsh']\n"
          ]
        }
      ]
    },
    {
      "cell_type": "code",
      "source": [
        "lst.remove(500)"
      ],
      "metadata": {
        "id": "q62w4-equ6kl"
      },
      "execution_count": 58,
      "outputs": []
    },
    {
      "cell_type": "code",
      "source": [
        "print(lst)"
      ],
      "metadata": {
        "colab": {
          "base_uri": "https://localhost:8080/"
        },
        "id": "hG-fsgnvvHks",
        "outputId": "73e4d9a8-7a18-4d18-8386-0bc3fcfb0272"
      },
      "execution_count": 59,
      "outputs": [
        {
          "output_type": "stream",
          "name": "stdout",
          "text": [
            "[2, 'pepcoding', 3, 4, 5, 'harsh']\n"
          ]
        }
      ]
    },
    {
      "cell_type": "markdown",
      "source": [
        "**Pop command returns the last value and prints it**"
      ],
      "metadata": {
        "id": "XM6zB6Rivc66"
      }
    },
    {
      "cell_type": "code",
      "source": [
        "lst.pop()"
      ],
      "metadata": {
        "colab": {
          "base_uri": "https://localhost:8080/",
          "height": 35
        },
        "id": "evbVR70_vN3W",
        "outputId": "638590c8-3f49-4424-9914-7cf6d0b32109"
      },
      "execution_count": 60,
      "outputs": [
        {
          "output_type": "execute_result",
          "data": {
            "application/vnd.google.colaboratory.intrinsic+json": {
              "type": "string"
            },
            "text/plain": [
              "'harsh'"
            ]
          },
          "metadata": {},
          "execution_count": 60
        }
      ]
    },
    {
      "cell_type": "code",
      "source": [
        "print(lst.pop())"
      ],
      "metadata": {
        "colab": {
          "base_uri": "https://localhost:8080/"
        },
        "id": "kSNQ4O3dA9a9",
        "outputId": "7826705f-b8df-4189-b1b9-b573e8642a6b"
      },
      "execution_count": 61,
      "outputs": [
        {
          "output_type": "stream",
          "name": "stdout",
          "text": [
            "5\n"
          ]
        }
      ]
    },
    {
      "cell_type": "code",
      "source": [
        "for i in lst:\n",
        "  print(i)"
      ],
      "metadata": {
        "colab": {
          "base_uri": "https://localhost:8080/"
        },
        "id": "ur2s96uPFFOL",
        "outputId": "bfc4c63f-0e0f-47d8-fa28-7b60733da57d"
      },
      "execution_count": 62,
      "outputs": [
        {
          "output_type": "stream",
          "name": "stdout",
          "text": [
            "2\n",
            "pepcoding\n",
            "3\n",
            "4\n"
          ]
        }
      ]
    },
    {
      "cell_type": "markdown",
      "source": [
        "### **Tuple: ( )**.  -- **Read Only Type**\n",
        "\n",
        "1. **Immutable**: values cannot be changed, once tuple is formed it cannot be changed or appended the values\n",
        "\n",
        "2. **Indexed**: can be accessed by tup(1)\n",
        "\n",
        "3. **Ordered**: jis order meh dalogeh wahi order meh rahega, order change nai hota\n",
        "\n",
        "4.** Allows Duplicacy**:duplicate values can be added, tw values can be added in one tuple\n",
        "\n",
        "**5. Not Homogenious**: Can include different datatype values(int,string)\n",
        "\n",
        "6. Tuples can be created without paranthesis also.\n",
        "\n",
        "7. It is used in Matrix as the dimension of matrix is fixed and does not change, values in the matrix can be changed but matrix remains the same"
      ],
      "metadata": {
        "id": "OPMUcX_Fv-pu"
      }
    },
    {
      "cell_type": "code",
      "source": [
        "tup=(1,2,3,\"hello\")"
      ],
      "metadata": {
        "id": "BgwcjQu0vQyf"
      },
      "execution_count": 63,
      "outputs": []
    },
    {
      "cell_type": "code",
      "source": [
        "print(type(tup))"
      ],
      "metadata": {
        "colab": {
          "base_uri": "https://localhost:8080/"
        },
        "id": "rX31UiIZCYhJ",
        "outputId": "28ec221c-6b5b-4524-b10d-1161daad8a2a"
      },
      "execution_count": 64,
      "outputs": [
        {
          "output_type": "stream",
          "name": "stdout",
          "text": [
            "<class 'tuple'>\n"
          ]
        }
      ]
    },
    {
      "cell_type": "code",
      "source": [
        "tup=10,20,40,\"harsh\""
      ],
      "metadata": {
        "id": "zmTi1bvXCfeF"
      },
      "execution_count": 65,
      "outputs": []
    },
    {
      "cell_type": "markdown",
      "source": [
        "For creating one size tuple we need to add comma after tuple otherwise it will assume it to be integer"
      ],
      "metadata": {
        "id": "sRjTUIhWDLlD"
      }
    },
    {
      "cell_type": "code",
      "source": [
        "tup2= 99,"
      ],
      "metadata": {
        "id": "R3-pDIceC0HQ"
      },
      "execution_count": 66,
      "outputs": []
    },
    {
      "cell_type": "code",
      "source": [
        "print(type(tup2))"
      ],
      "metadata": {
        "colab": {
          "base_uri": "https://localhost:8080/"
        },
        "id": "kZ56e_luDCVC",
        "outputId": "0b0a4419-374e-4527-d51d-83766ceb3594"
      },
      "execution_count": 67,
      "outputs": [
        {
          "output_type": "stream",
          "name": "stdout",
          "text": [
            "<class 'tuple'>\n"
          ]
        }
      ]
    },
    {
      "cell_type": "code",
      "source": [
        "print(tup[0])"
      ],
      "metadata": {
        "colab": {
          "base_uri": "https://localhost:8080/"
        },
        "id": "6ZiCye3kDER9",
        "outputId": "7b8971f9-947e-45cf-ce44-acda565f5524"
      },
      "execution_count": 68,
      "outputs": [
        {
          "output_type": "stream",
          "name": "stdout",
          "text": [
            "10\n"
          ]
        }
      ]
    },
    {
      "cell_type": "markdown",
      "source": [
        "We cannot change the values of type as it Immutable so the values once fixed is fixed and cannot be changed later"
      ],
      "metadata": {
        "id": "GOSRx3qeDlXO"
      }
    },
    {
      "cell_type": "code",
      "source": [
        "tup[0]=11"
      ],
      "metadata": {
        "colab": {
          "base_uri": "https://localhost:8080/",
          "height": 166
        },
        "id": "bgWMxOJ8DiNi",
        "outputId": "a83fc859-4735-407d-fcea-cb7ec0fd0965"
      },
      "execution_count": 69,
      "outputs": [
        {
          "output_type": "error",
          "ename": "TypeError",
          "evalue": "ignored",
          "traceback": [
            "\u001b[0;31m---------------------------------------------------------------------------\u001b[0m",
            "\u001b[0;31mTypeError\u001b[0m                                 Traceback (most recent call last)",
            "\u001b[0;32m<ipython-input-69-52935b0f1419>\u001b[0m in \u001b[0;36m<module>\u001b[0;34m()\u001b[0m\n\u001b[0;32m----> 1\u001b[0;31m \u001b[0mtup\u001b[0m\u001b[0;34m[\u001b[0m\u001b[0;36m0\u001b[0m\u001b[0;34m]\u001b[0m\u001b[0;34m=\u001b[0m\u001b[0;36m11\u001b[0m\u001b[0;34m\u001b[0m\u001b[0;34m\u001b[0m\u001b[0m\n\u001b[0m",
            "\u001b[0;31mTypeError\u001b[0m: 'tuple' object does not support item assignment"
          ]
        }
      ]
    },
    {
      "cell_type": "code",
      "source": [
        "for i in tup:\n",
        "  print(i)"
      ],
      "metadata": {
        "colab": {
          "base_uri": "https://localhost:8080/"
        },
        "id": "k8UOwY_ZD268",
        "outputId": "d7b2e488-5c83-46eb-ac55-ea17e0b3413b"
      },
      "execution_count": 70,
      "outputs": [
        {
          "output_type": "stream",
          "name": "stdout",
          "text": [
            "10\n",
            "20\n",
            "40\n",
            "harsh\n"
          ]
        }
      ]
    },
    {
      "cell_type": "markdown",
      "source": [
        "**We cannot append the values in tuple as it is Immutable so values once fixed cannot be changed**"
      ],
      "metadata": {
        "id": "au-if_PIEU3u"
      }
    },
    {
      "cell_type": "code",
      "source": [
        "tup.append(5)"
      ],
      "metadata": {
        "colab": {
          "base_uri": "https://localhost:8080/",
          "height": 166
        },
        "id": "2F2YNXeqESsD",
        "outputId": "073461f7-60c9-46e1-c6aa-327cedb7b53f"
      },
      "execution_count": 71,
      "outputs": [
        {
          "output_type": "error",
          "ename": "AttributeError",
          "evalue": "ignored",
          "traceback": [
            "\u001b[0;31m---------------------------------------------------------------------------\u001b[0m",
            "\u001b[0;31mAttributeError\u001b[0m                            Traceback (most recent call last)",
            "\u001b[0;32m<ipython-input-71-4c22b886f1e9>\u001b[0m in \u001b[0;36m<module>\u001b[0;34m()\u001b[0m\n\u001b[0;32m----> 1\u001b[0;31m \u001b[0mtup\u001b[0m\u001b[0;34m.\u001b[0m\u001b[0mappend\u001b[0m\u001b[0;34m(\u001b[0m\u001b[0;36m5\u001b[0m\u001b[0;34m)\u001b[0m\u001b[0;34m\u001b[0m\u001b[0;34m\u001b[0m\u001b[0m\n\u001b[0m",
            "\u001b[0;31mAttributeError\u001b[0m: 'tuple' object has no attribute 'append'"
          ]
        }
      ]
    },
    {
      "cell_type": "markdown",
      "source": [
        "### **SETS - { }**\n",
        "\n",
        "1. **Not Order**- Cannot reply on Order- joh apne first element dala joh first print hoke aye is not compulsory\n",
        "\n",
        "2. **Not Indexed**- as it is not ordered then it cannot be indexed\n",
        "\n",
        "3. **Cannot store multiple elements**\n",
        "\n",
        "5. **Hetereogenious**- Can include different datatype values\n",
        "\n",
        "6. **Sets are Immutable**- means we can add or remove values in sets but we cannot change the existing values in set(update), here we are not removing the values from the bucket but instead we are adding the new element in the new bucket and removing the odd one and not replacing it\n",
        "\n",
        "7. We cannot add any value in the set which is Immutable(List cannot be added in set but tuple can be added in set)\n",
        "\n",
        "8.No duplicacy allowed in sets\n",
        "\n",
        "9. we can add, remove and pop in set\n",
        "\n",
        "10. we cannot insert in set"
      ],
      "metadata": {
        "id": "-pbnhgTXPiE3"
      }
    },
    {
      "cell_type": "code",
      "source": [
        "st= {\"Apple\", \"Banana\", \"mango\"}"
      ],
      "metadata": {
        "id": "RwEqbvb3PhI8"
      },
      "execution_count": 72,
      "outputs": []
    },
    {
      "cell_type": "code",
      "source": [
        "print(st)"
      ],
      "metadata": {
        "colab": {
          "base_uri": "https://localhost:8080/"
        },
        "id": "JutlDtWbEhTz",
        "outputId": "848abd31-10ba-4052-bbf7-89b5d23faf27"
      },
      "execution_count": 73,
      "outputs": [
        {
          "output_type": "stream",
          "name": "stdout",
          "text": [
            "{'Apple', 'Banana', 'mango'}\n"
          ]
        }
      ]
    },
    {
      "cell_type": "markdown",
      "source": [
        "As it is not ordered so we cannot find its index as well"
      ],
      "metadata": {
        "id": "mrBEZ1lHRBNE"
      }
    },
    {
      "cell_type": "code",
      "source": [
        "st[0]"
      ],
      "metadata": {
        "colab": {
          "base_uri": "https://localhost:8080/",
          "height": 166
        },
        "id": "ksoEmi80QqMx",
        "outputId": "c38d84c3-5f70-4f2d-e5f5-93a3da5d254d"
      },
      "execution_count": 74,
      "outputs": [
        {
          "output_type": "error",
          "ename": "TypeError",
          "evalue": "ignored",
          "traceback": [
            "\u001b[0;31m---------------------------------------------------------------------------\u001b[0m",
            "\u001b[0;31mTypeError\u001b[0m                                 Traceback (most recent call last)",
            "\u001b[0;32m<ipython-input-74-028cc1d9138b>\u001b[0m in \u001b[0;36m<module>\u001b[0;34m()\u001b[0m\n\u001b[0;32m----> 1\u001b[0;31m \u001b[0mst\u001b[0m\u001b[0;34m[\u001b[0m\u001b[0;36m0\u001b[0m\u001b[0;34m]\u001b[0m\u001b[0;34m\u001b[0m\u001b[0;34m\u001b[0m\u001b[0m\n\u001b[0m",
            "\u001b[0;31mTypeError\u001b[0m: 'set' object is not subscriptable"
          ]
        }
      ]
    },
    {
      "cell_type": "markdown",
      "source": [
        "**Cannot store Multiple values: here banana is printed only once though we added 2 times**"
      ],
      "metadata": {
        "id": "DSUBZ5n-RP1a"
      }
    },
    {
      "cell_type": "markdown",
      "source": [
        "st= {\"Apple\", \"Banana\", \"mango\",\"Banana\"}"
      ],
      "metadata": {
        "id": "8SkyHzILRYPT"
      }
    },
    {
      "cell_type": "code",
      "source": [
        "print(st)"
      ],
      "metadata": {
        "colab": {
          "base_uri": "https://localhost:8080/"
        },
        "id": "z0kUfmesQ8ei",
        "outputId": "4fdb4088-4627-4e2b-9681-e645c173ec83"
      },
      "execution_count": 75,
      "outputs": [
        {
          "output_type": "stream",
          "name": "stdout",
          "text": [
            "{'Apple', 'Banana', 'mango'}\n"
          ]
        }
      ]
    },
    {
      "cell_type": "markdown",
      "source": [
        "Set is Heterogeious"
      ],
      "metadata": {
        "id": "sQosvvZgRpdU"
      }
    },
    {
      "cell_type": "code",
      "source": [
        "st= {\"Apple\", \"Banana\", \"mango\",\"Banana\",5,10.5}"
      ],
      "metadata": {
        "id": "bBOtHm7tRhHr"
      },
      "execution_count": 76,
      "outputs": []
    },
    {
      "cell_type": "code",
      "source": [
        "print(st)"
      ],
      "metadata": {
        "colab": {
          "base_uri": "https://localhost:8080/"
        },
        "id": "T9QWLeqjRvuj",
        "outputId": "24362fcf-6413-4d58-9138-64bf8c11d7ae"
      },
      "execution_count": 77,
      "outputs": [
        {
          "output_type": "stream",
          "name": "stdout",
          "text": [
            "{5, 10.5, 'mango', 'Apple', 'Banana'}\n"
          ]
        }
      ]
    },
    {
      "cell_type": "code",
      "source": [
        "st.add(\"orange\")"
      ],
      "metadata": {
        "id": "kdBqbXoKRxRX"
      },
      "execution_count": 78,
      "outputs": []
    },
    {
      "cell_type": "code",
      "source": [
        "st.remove(\"Banana\")"
      ],
      "metadata": {
        "id": "prsdJZxFTd8X"
      },
      "execution_count": 79,
      "outputs": []
    },
    {
      "cell_type": "code",
      "source": [
        "print(st)"
      ],
      "metadata": {
        "colab": {
          "base_uri": "https://localhost:8080/"
        },
        "id": "y7R-N6TfTh2t",
        "outputId": "8bc5fc83-de8e-46af-dfbe-cf63f1592f8c"
      },
      "execution_count": 80,
      "outputs": [
        {
          "output_type": "stream",
          "name": "stdout",
          "text": [
            "{5, 10.5, 'mango', 'orange', 'Apple'}\n"
          ]
        }
      ]
    },
    {
      "cell_type": "markdown",
      "source": [
        "Here we cannot store List in Set as it is Mutable ie. in list values can be changed but in sets values should not be changed"
      ],
      "metadata": {
        "id": "r9rElbjyUg9M"
      }
    },
    {
      "cell_type": "code",
      "source": [
        "st={1,2,3,[\"Apple\",\"orange\"]}"
      ],
      "metadata": {
        "colab": {
          "base_uri": "https://localhost:8080/",
          "height": 166
        },
        "id": "v1RXfkWFTiuz",
        "outputId": "1023b646-f0e7-4f07-fd5c-6b6869548aee"
      },
      "execution_count": 81,
      "outputs": [
        {
          "output_type": "error",
          "ename": "TypeError",
          "evalue": "ignored",
          "traceback": [
            "\u001b[0;31m---------------------------------------------------------------------------\u001b[0m",
            "\u001b[0;31mTypeError\u001b[0m                                 Traceback (most recent call last)",
            "\u001b[0;32m<ipython-input-81-40c07b249afa>\u001b[0m in \u001b[0;36m<module>\u001b[0;34m()\u001b[0m\n\u001b[0;32m----> 1\u001b[0;31m \u001b[0mst\u001b[0m\u001b[0;34m=\u001b[0m\u001b[0;34m{\u001b[0m\u001b[0;36m1\u001b[0m\u001b[0;34m,\u001b[0m\u001b[0;36m2\u001b[0m\u001b[0;34m,\u001b[0m\u001b[0;36m3\u001b[0m\u001b[0;34m,\u001b[0m\u001b[0;34m[\u001b[0m\u001b[0;34m\"Apple\"\u001b[0m\u001b[0;34m,\u001b[0m\u001b[0;34m\"orange\"\u001b[0m\u001b[0;34m]\u001b[0m\u001b[0;34m}\u001b[0m\u001b[0;34m\u001b[0m\u001b[0;34m\u001b[0m\u001b[0m\n\u001b[0m",
            "\u001b[0;31mTypeError\u001b[0m: unhashable type: 'list'"
          ]
        }
      ]
    },
    {
      "cell_type": "markdown",
      "source": [
        "Here we can store Tuple inside the sets as tuples is Immutable ie. values cannot be updated"
      ],
      "metadata": {
        "id": "GG7nvncDUxvu"
      }
    },
    {
      "cell_type": "code",
      "source": [
        "st={1,2,3,4,5,(\"harsh\",\"Kishor\",\"mandviya\")}"
      ],
      "metadata": {
        "id": "GTOCHZ0qUPi2"
      },
      "execution_count": 82,
      "outputs": []
    },
    {
      "cell_type": "code",
      "source": [
        "print(st)"
      ],
      "metadata": {
        "colab": {
          "base_uri": "https://localhost:8080/"
        },
        "id": "dkOFvnZ4VF0O",
        "outputId": "8d0e9fe1-23a6-4ee7-b6f7-eb44cfaa52bf"
      },
      "execution_count": 83,
      "outputs": [
        {
          "output_type": "stream",
          "name": "stdout",
          "text": [
            "{1, 2, 3, 4, 5, ('harsh', 'Kishor', 'mandviya')}\n"
          ]
        }
      ]
    },
    {
      "cell_type": "code",
      "source": [
        "for x in st:\n",
        "  print(x)"
      ],
      "metadata": {
        "colab": {
          "base_uri": "https://localhost:8080/"
        },
        "id": "rwn0-792VHk_",
        "outputId": "e9262eb7-3c76-4e5c-9a94-545a6ee6540a"
      },
      "execution_count": 84,
      "outputs": [
        {
          "output_type": "stream",
          "name": "stdout",
          "text": [
            "1\n",
            "2\n",
            "3\n",
            "4\n",
            "5\n",
            "('harsh', 'Kishor', 'mandviya')\n"
          ]
        }
      ]
    },
    {
      "cell_type": "markdown",
      "source": [
        "pop removes one of the random values from the set and throws back to us"
      ],
      "metadata": {
        "id": "qQy-GaNGWKqH"
      }
    },
    {
      "cell_type": "code",
      "source": [
        "st.pop()"
      ],
      "metadata": {
        "colab": {
          "base_uri": "https://localhost:8080/"
        },
        "id": "WGF3ORptVWlq",
        "outputId": "e63eef32-0728-42e5-a67c-a2c04cd6ef28"
      },
      "execution_count": 85,
      "outputs": [
        {
          "output_type": "execute_result",
          "data": {
            "text/plain": [
              "1"
            ]
          },
          "metadata": {},
          "execution_count": 85
        }
      ]
    },
    {
      "cell_type": "markdown",
      "source": [
        "clear will clear all the values from the set and making it empty set"
      ],
      "metadata": {
        "id": "3HWGqCQZWR8V"
      }
    },
    {
      "cell_type": "code",
      "source": [
        "st.clear()"
      ],
      "metadata": {
        "id": "xaAhI0pOWEnO"
      },
      "execution_count": 86,
      "outputs": []
    },
    {
      "cell_type": "code",
      "source": [
        "print(st)"
      ],
      "metadata": {
        "colab": {
          "base_uri": "https://localhost:8080/"
        },
        "id": "CFWA2FPcWWU_",
        "outputId": "9b33cfec-0bcc-49a1-b968-96ceb3160bcd"
      },
      "execution_count": 87,
      "outputs": [
        {
          "output_type": "stream",
          "name": "stdout",
          "text": [
            "set()\n"
          ]
        }
      ]
    },
    {
      "cell_type": "markdown",
      "source": [
        "Deleting set: it will remove the entire set and delete it from the dataset and wil print st is not defined"
      ],
      "metadata": {
        "id": "s1RcL2vbW0JK"
      }
    },
    {
      "cell_type": "code",
      "source": [
        "del st"
      ],
      "metadata": {
        "id": "ktN9ubnaW6fH"
      },
      "execution_count": 88,
      "outputs": []
    },
    {
      "cell_type": "code",
      "source": [
        "print(st)"
      ],
      "metadata": {
        "colab": {
          "base_uri": "https://localhost:8080/",
          "height": 166
        },
        "id": "4k8HOXn2XFAR",
        "outputId": "5407ef6e-e891-48fa-f540-26948d44cafa"
      },
      "execution_count": 89,
      "outputs": [
        {
          "output_type": "error",
          "ename": "NameError",
          "evalue": "ignored",
          "traceback": [
            "\u001b[0;31m---------------------------------------------------------------------------\u001b[0m",
            "\u001b[0;31mNameError\u001b[0m                                 Traceback (most recent call last)",
            "\u001b[0;32m<ipython-input-89-7906f3753e9a>\u001b[0m in \u001b[0;36m<module>\u001b[0;34m()\u001b[0m\n\u001b[0;32m----> 1\u001b[0;31m \u001b[0mprint\u001b[0m\u001b[0;34m(\u001b[0m\u001b[0mst\u001b[0m\u001b[0;34m)\u001b[0m\u001b[0;34m\u001b[0m\u001b[0;34m\u001b[0m\u001b[0m\n\u001b[0m",
            "\u001b[0;31mNameError\u001b[0m: name 'st' is not defined"
          ]
        }
      ]
    },
    {
      "cell_type": "markdown",
      "source": [
        "**Union in set**"
      ],
      "metadata": {
        "id": "ZHzNrXcIXcLB"
      }
    },
    {
      "cell_type": "code",
      "source": [
        "set1={1,2,3,4,5}\n",
        "set2= {10,20,30,40}"
      ],
      "metadata": {
        "id": "QXdlGDuFXMI-"
      },
      "execution_count": 90,
      "outputs": []
    },
    {
      "cell_type": "code",
      "source": [
        "print(set1.union(set2))"
      ],
      "metadata": {
        "colab": {
          "base_uri": "https://localhost:8080/"
        },
        "id": "rHdwCRL9Xle7",
        "outputId": "1e4857a9-5f4e-4a01-c3ed-510a9927bfd9"
      },
      "execution_count": 91,
      "outputs": [
        {
          "output_type": "stream",
          "name": "stdout",
          "text": [
            "{1, 2, 3, 4, 5, 40, 10, 20, 30}\n"
          ]
        }
      ]
    },
    {
      "cell_type": "markdown",
      "source": [
        "### **Dictionary: { } **\n",
        "\n",
        "Same as Json in Javascript\n",
        "\n",
        "Same as Hashmaps in java\n",
        "Stores value in **key value format**\n",
        "\n",
        "Till now we were storing in list in index format now key value can be string,number or anything\n",
        "\n",
        "Before Python 3.7- Oder was Not fixed-  Colab Is Unodered\n",
        "After Python 3.7_Order is Fixed now- Jis order meh daloge woh order fix rahega\n",
        "\n",
        "Python dictionary is Mutable\n",
        "\n",
        "Unindexed -Order is not fixed\n",
        "\n",
        "Duplicate value is possible "
      ],
      "metadata": {
        "id": "SieaobzoeqFU"
      }
    },
    {
      "cell_type": "code",
      "source": [
        "my_dict ={\n",
        "    \"Name\": \"Harsh\",\n",
        "    \"Age\":21,\n",
        "    \"Gender\":\"Male\"\n",
        "}"
      ],
      "metadata": {
        "id": "nna7Hccnf6Yd"
      },
      "execution_count": 91,
      "outputs": []
    },
    {
      "cell_type": "code",
      "source": [
        "print(my_dict)"
      ],
      "metadata": {
        "colab": {
          "base_uri": "https://localhost:8080/"
        },
        "id": "bnsziyiggdX2",
        "outputId": "b17e6ba6-2f97-4ff4-c1f9-507c0768573a"
      },
      "execution_count": 92,
      "outputs": [
        {
          "output_type": "stream",
          "name": "stdout",
          "text": [
            "{'Name': 'Harsh', 'Age': 21, 'Gender': 'Male'}\n"
          ]
        }
      ]
    },
    {
      "cell_type": "code",
      "source": [
        "my_dict[\"Height\"]= 5.11"
      ],
      "metadata": {
        "id": "GtUXGfdQgf4Q"
      },
      "execution_count": 93,
      "outputs": []
    },
    {
      "cell_type": "code",
      "source": [
        "print(my_dict)"
      ],
      "metadata": {
        "colab": {
          "base_uri": "https://localhost:8080/"
        },
        "id": "SG8zqJ_DiZaX",
        "outputId": "130ba7b2-d51c-4987-b494-beda7535d170"
      },
      "execution_count": 94,
      "outputs": [
        {
          "output_type": "stream",
          "name": "stdout",
          "text": [
            "{'Name': 'Harsh', 'Age': 21, 'Gender': 'Male', 'Height': 5.11}\n"
          ]
        }
      ]
    },
    {
      "cell_type": "markdown",
      "source": [
        "To access any value from dictionary"
      ],
      "metadata": {
        "id": "OTD_0Qcfil8Z"
      }
    },
    {
      "cell_type": "code",
      "source": [
        "print(my_dict[\"Name\"])"
      ],
      "metadata": {
        "colab": {
          "base_uri": "https://localhost:8080/"
        },
        "id": "FxMxuhNgicbF",
        "outputId": "c68830c2-16d1-4e79-97a5-50916cb0795f"
      },
      "execution_count": 95,
      "outputs": [
        {
          "output_type": "stream",
          "name": "stdout",
          "text": [
            "Harsh\n"
          ]
        }
      ]
    },
    {
      "cell_type": "code",
      "source": [
        "my_dict[\"Name\"]=\"Mehul\""
      ],
      "metadata": {
        "id": "V8Ka9SfRi20I"
      },
      "execution_count": 96,
      "outputs": []
    },
    {
      "cell_type": "code",
      "source": [
        "print(my_dict)"
      ],
      "metadata": {
        "colab": {
          "base_uri": "https://localhost:8080/"
        },
        "id": "P9iyIz4KjIsk",
        "outputId": "0df0307a-2998-4f1c-f06e-21b2ce43974c"
      },
      "execution_count": 97,
      "outputs": [
        {
          "output_type": "stream",
          "name": "stdout",
          "text": [
            "{'Name': 'Mehul', 'Age': 21, 'Gender': 'Male', 'Height': 5.11}\n"
          ]
        }
      ]
    },
    {
      "cell_type": "code",
      "source": [
        "my_dict.pop(\"Height\")"
      ],
      "metadata": {
        "colab": {
          "base_uri": "https://localhost:8080/"
        },
        "id": "fp1zZjagjOkp",
        "outputId": "91572a59-54fd-412d-abe8-fd99857f8368"
      },
      "execution_count": 98,
      "outputs": [
        {
          "output_type": "execute_result",
          "data": {
            "text/plain": [
              "5.11"
            ]
          },
          "metadata": {},
          "execution_count": 98
        }
      ]
    },
    {
      "cell_type": "code",
      "source": [
        "my_dict[\"Height\"]=5.5"
      ],
      "metadata": {
        "id": "cJaFidPDjTbu"
      },
      "execution_count": 99,
      "outputs": []
    },
    {
      "cell_type": "markdown",
      "source": [
        "Delete the whole dictionary and it will print that the dictionary does not exist as it is completely deleted from the memory"
      ],
      "metadata": {
        "id": "9lpkjz_xjlZL"
      }
    },
    {
      "cell_type": "code",
      "source": [
        "del my_dict"
      ],
      "metadata": {
        "id": "fgD0cvjCjdxy"
      },
      "execution_count": 100,
      "outputs": []
    },
    {
      "cell_type": "code",
      "source": [
        "print(my_dict)"
      ],
      "metadata": {
        "colab": {
          "base_uri": "https://localhost:8080/",
          "height": 166
        },
        "id": "XSmtpchljvMx",
        "outputId": "3aad217d-143d-421b-d405-faab4bcccb41"
      },
      "execution_count": 101,
      "outputs": [
        {
          "output_type": "error",
          "ename": "NameError",
          "evalue": "ignored",
          "traceback": [
            "\u001b[0;31m---------------------------------------------------------------------------\u001b[0m",
            "\u001b[0;31mNameError\u001b[0m                                 Traceback (most recent call last)",
            "\u001b[0;32m<ipython-input-101-757c65d66297>\u001b[0m in \u001b[0;36m<module>\u001b[0;34m()\u001b[0m\n\u001b[0;32m----> 1\u001b[0;31m \u001b[0mprint\u001b[0m\u001b[0;34m(\u001b[0m\u001b[0mmy_dict\u001b[0m\u001b[0;34m)\u001b[0m\u001b[0;34m\u001b[0m\u001b[0;34m\u001b[0m\u001b[0m\n\u001b[0m",
            "\u001b[0;31mNameError\u001b[0m: name 'my_dict' is not defined"
          ]
        }
      ]
    },
    {
      "cell_type": "code",
      "source": [
        "my_dict ={\n",
        "    \"Name\": \"Harsh\",\n",
        "    \"Age\":21,\n",
        "    \"Gender\":\"Male\"\n",
        "}"
      ],
      "metadata": {
        "id": "IBdBVk-lj5HV"
      },
      "execution_count": 102,
      "outputs": []
    },
    {
      "cell_type": "markdown",
      "source": [
        "**For getting the values**"
      ],
      "metadata": {
        "id": "XNliE9WkkgIb"
      }
    },
    {
      "cell_type": "code",
      "source": [
        "for key in my_dict.keys():\n",
        "  print(key)"
      ],
      "metadata": {
        "colab": {
          "base_uri": "https://localhost:8080/"
        },
        "id": "DugNFj1ukLEO",
        "outputId": "0879b089-731b-4873-d07f-a4116bcaf268"
      },
      "execution_count": 103,
      "outputs": [
        {
          "output_type": "stream",
          "name": "stdout",
          "text": [
            "Name\n",
            "Age\n",
            "Gender\n"
          ]
        }
      ]
    },
    {
      "cell_type": "markdown",
      "source": [
        "**For getting the keys from my_dict**"
      ],
      "metadata": {
        "id": "g-9YmIFTkjUS"
      }
    },
    {
      "cell_type": "code",
      "source": [
        "for value in my_dict.values():\n",
        "  print(value)"
      ],
      "metadata": {
        "colab": {
          "base_uri": "https://localhost:8080/"
        },
        "id": "E2ff5P4ZknYP",
        "outputId": "ba359c14-42f4-4181-cbb4-666f267b5af0"
      },
      "execution_count": 104,
      "outputs": [
        {
          "output_type": "stream",
          "name": "stdout",
          "text": [
            "Harsh\n",
            "21\n",
            "Male\n"
          ]
        }
      ]
    },
    {
      "cell_type": "markdown",
      "source": [
        "**Copying dictionary into another dictionary**"
      ],
      "metadata": {
        "id": "3D5ouNmflL8E"
      }
    },
    {
      "cell_type": "code",
      "source": [
        "dict2=my_dict.copy()"
      ],
      "metadata": {
        "id": "Z87h8IUNkPCG"
      },
      "execution_count": 105,
      "outputs": []
    },
    {
      "cell_type": "code",
      "source": [
        "print(dict2)"
      ],
      "metadata": {
        "colab": {
          "base_uri": "https://localhost:8080/"
        },
        "id": "7VOSTDAilUAi",
        "outputId": "4cfce479-649b-4338-cada-0da1e3725a7d"
      },
      "execution_count": 106,
      "outputs": [
        {
          "output_type": "stream",
          "name": "stdout",
          "text": [
            "{'Name': 'Harsh', 'Age': 21, 'Gender': 'Male'}\n"
          ]
        }
      ]
    },
    {
      "cell_type": "markdown",
      "source": [
        "**Storing one dictionary into another dictonary**"
      ],
      "metadata": {
        "id": "dirn8IkXlYaV"
      }
    },
    {
      "cell_type": "code",
      "source": [
        "dict3 ={\n",
        "   \"test\":my_dict\n",
        "}"
      ],
      "metadata": {
        "id": "l58zB3pclWQb"
      },
      "execution_count": 107,
      "outputs": []
    },
    {
      "cell_type": "code",
      "source": [
        "print(dict3)"
      ],
      "metadata": {
        "colab": {
          "base_uri": "https://localhost:8080/"
        },
        "id": "SXOQyBclmGHb",
        "outputId": "623045b1-0e42-4bf0-f613-750664b48a92"
      },
      "execution_count": 108,
      "outputs": [
        {
          "output_type": "stream",
          "name": "stdout",
          "text": [
            "{'test': {'Name': 'Harsh', 'Age': 21, 'Gender': 'Male'}}\n"
          ]
        }
      ]
    },
    {
      "cell_type": "code",
      "source": [
        "dict3[\"new\"]=(1,2,3)"
      ],
      "metadata": {
        "id": "xjhMBrzsmKy3"
      },
      "execution_count": 109,
      "outputs": []
    },
    {
      "cell_type": "code",
      "source": [
        "print(dict3)"
      ],
      "metadata": {
        "colab": {
          "base_uri": "https://localhost:8080/"
        },
        "id": "DizELHJmmdi8",
        "outputId": "e3bf4375-9fca-4992-a1b2-fb43812cdeb5"
      },
      "execution_count": 110,
      "outputs": [
        {
          "output_type": "stream",
          "name": "stdout",
          "text": [
            "{'test': {'Name': 'Harsh', 'Age': 21, 'Gender': 'Male'}, 'new': (1, 2, 3)}\n"
          ]
        }
      ]
    },
    {
      "cell_type": "markdown",
      "source": [
        "Accesses value inside dictionary "
      ],
      "metadata": {
        "id": "XGSwWq8xnGpF"
      }
    },
    {
      "cell_type": "code",
      "source": [
        "dict3[\"test\"][\"Gender\"]"
      ],
      "metadata": {
        "colab": {
          "base_uri": "https://localhost:8080/",
          "height": 35
        },
        "id": "W0IJHxPgmg4n",
        "outputId": "c63cdb5a-1bba-4101-e7c8-e7d11762756f"
      },
      "execution_count": 111,
      "outputs": [
        {
          "output_type": "execute_result",
          "data": {
            "application/vnd.google.colaboratory.intrinsic+json": {
              "type": "string"
            },
            "text/plain": [
              "'Male'"
            ]
          },
          "metadata": {},
          "execution_count": 111
        }
      ]
    },
    {
      "cell_type": "markdown",
      "source": [
        "### **Try Catch/Except**"
      ],
      "metadata": {
        "id": "8q3jzqhdoVlg"
      }
    },
    {
      "cell_type": "markdown",
      "source": [
        "**Try**- Code joh potentially Fat sakta hai and exception raise kar sakta hai \n",
        "\n",
        "**Except**: joh code try meh fat sakta hai usko hum catch/except meh catch karte hai\n",
        "\n",
        "Exception ko fatneh seh roknekeh liye hum try catch block use karte hai"
      ],
      "metadata": {
        "id": "HA26CPFkogt6"
      }
    },
    {
      "cell_type": "markdown",
      "source": [
        "Yaha agar try and catch nahi likhte toh code a/b meh fat jata and yaha apneko waise nahi chahiyeh isliye usko try catch block meh likha"
      ],
      "metadata": {
        "id": "_57uh7CDqGoz"
      }
    },
    {
      "cell_type": "code",
      "source": [
        "a,b=5,0\n",
        "try:\n",
        "  print(a/b)\n",
        "except:\n",
        "  print(\"Division by Zero happened\")\n",
        "\n",
        "print(\"Hello world\")"
      ],
      "metadata": {
        "colab": {
          "base_uri": "https://localhost:8080/"
        },
        "id": "ew7UuFSVnFb_",
        "outputId": "6d4989a2-c2fc-400f-a0f2-e14d20ab8b10"
      },
      "execution_count": 112,
      "outputs": [
        {
          "output_type": "stream",
          "name": "stdout",
          "text": [
            "Division by Zero happened\n",
            "Hello world\n"
          ]
        }
      ]
    },
    {
      "cell_type": "code",
      "source": [
        "a/b\n"
      ],
      "metadata": {
        "colab": {
          "base_uri": "https://localhost:8080/",
          "height": 166
        },
        "id": "EkwdRfzzpxg0",
        "outputId": "7202a14c-8db5-4a3e-be57-4e88b7e45988"
      },
      "execution_count": 113,
      "outputs": [
        {
          "output_type": "error",
          "ename": "ZeroDivisionError",
          "evalue": "ignored",
          "traceback": [
            "\u001b[0;31m---------------------------------------------------------------------------\u001b[0m",
            "\u001b[0;31mZeroDivisionError\u001b[0m                         Traceback (most recent call last)",
            "\u001b[0;32m<ipython-input-113-aae42d317509>\u001b[0m in \u001b[0;36m<module>\u001b[0;34m()\u001b[0m\n\u001b[0;32m----> 1\u001b[0;31m \u001b[0ma\u001b[0m\u001b[0;34m/\u001b[0m\u001b[0mb\u001b[0m\u001b[0;34m\u001b[0m\u001b[0;34m\u001b[0m\u001b[0m\n\u001b[0m",
            "\u001b[0;31mZeroDivisionError\u001b[0m: division by zero"
          ]
        }
      ]
    },
    {
      "cell_type": "markdown",
      "source": [
        "here ZeroDivisionError raise hua toh if ZeroDivisionError error raise hota hai print that error otherwise for all the rest of the errors print \"other error happened\""
      ],
      "metadata": {
        "id": "ssFT9pDTqjM0"
      }
    },
    {
      "cell_type": "code",
      "source": [
        "a,b= 10,0\n",
        "try:\n",
        "  print(a/b)\n",
        "except ZeroDivisionError:\n",
        "  print(\"ZeroDivisionError occured\")\n",
        "except:\n",
        "  print(\"Other error occured\")\n",
        "\n",
        "print(\"Harsh\")"
      ],
      "metadata": {
        "colab": {
          "base_uri": "https://localhost:8080/"
        },
        "id": "pBGT0oP0qhL5",
        "outputId": "4288dd5d-9e94-4529-86d2-c03905288b93"
      },
      "execution_count": 114,
      "outputs": [
        {
          "output_type": "stream",
          "name": "stdout",
          "text": [
            "ZeroDivisionError occured\n",
            "Harsh\n"
          ]
        }
      ]
    },
    {
      "cell_type": "markdown",
      "source": [
        "**Here NameError came as the name defined is not printed so the error came**"
      ],
      "metadata": {
        "id": "DFhisJzisU9u"
      }
    },
    {
      "cell_type": "code",
      "source": [
        "a,b= 10,0\n",
        "try:\n",
        "  test=\"Hello Peter parker\"\n",
        "  print(standard)\n",
        "except NameError:\n",
        "  print(\"NameError Came\")\n",
        "except ZeroDivisionError:\n",
        "  print(\"ZeroDivisionError occured\")\n",
        "except:\n",
        "  print(\"Other error occured\")\n",
        "\n",
        "print(\"Harsh\")"
      ],
      "metadata": {
        "colab": {
          "base_uri": "https://localhost:8080/"
        },
        "id": "KtJ4XBxLrjJs",
        "outputId": "947854c4-f919-4986-e665-d1f26fb6c2bd"
      },
      "execution_count": 115,
      "outputs": [
        {
          "output_type": "stream",
          "name": "stdout",
          "text": [
            "NameError Came\n",
            "Harsh\n"
          ]
        }
      ]
    },
    {
      "cell_type": "markdown",
      "source": [
        "**Else block works when the try block is worked well and everything in the try block is executed well**"
      ],
      "metadata": {
        "id": "7qDPK8hjs2eX"
      }
    },
    {
      "cell_type": "code",
      "source": [
        "a,b= 10,0\n",
        "try:\n",
        "  test=\"Hello Peter parker\"\n",
        "  print(test)\n",
        "except NameError:\n",
        "  print(\"NameError Came\")\n",
        "except ZeroDivisionError:\n",
        "  print(\"ZeroDivisionError occured\")\n",
        "except:\n",
        "  print(\"Other error occured\")\n",
        "else:\n",
        "  print(\"Else block is printed\")\n",
        "\n",
        "print(\"Harsh\")"
      ],
      "metadata": {
        "colab": {
          "base_uri": "https://localhost:8080/"
        },
        "id": "Wk1yPmUKsMJ9",
        "outputId": "f107c1e0-6176-4b83-aa07-017a4df993a9"
      },
      "execution_count": 116,
      "outputs": [
        {
          "output_type": "stream",
          "name": "stdout",
          "text": [
            "Hello Peter parker\n",
            "Else block is printed\n",
            "Harsh\n"
          ]
        }
      ]
    },
    {
      "cell_type": "markdown",
      "source": [
        "**Finally block is printed no matter what the condition is, it will get printed **"
      ],
      "metadata": {
        "id": "JtA409JK0Igi"
      }
    },
    {
      "cell_type": "code",
      "source": [
        "a,b= 10,0\n",
        "try:\n",
        "  test=\"Hello Peter parker\"\n",
        "  print(standard)\n",
        "except NameError:\n",
        "  print(\"NameError Came\")\n",
        "except ZeroDivisionError:\n",
        "  print(\"ZeroDivisionError occured\")\n",
        "except:\n",
        "  print(\"Other error occured\")\n",
        "else:\n",
        "  print(\"Else block is printed\")\n",
        "finally:\n",
        "  print(\"finally block printed\")\n",
        "print(\"Harsh\")"
      ],
      "metadata": {
        "colab": {
          "base_uri": "https://localhost:8080/"
        },
        "id": "bioKsCjDz-4N",
        "outputId": "27523be1-7f3c-4c51-b040-d044bcb128c1"
      },
      "execution_count": 117,
      "outputs": [
        {
          "output_type": "stream",
          "name": "stdout",
          "text": [
            "NameError Came\n",
            "finally block printed\n",
            "Harsh\n"
          ]
        }
      ]
    },
    {
      "cell_type": "markdown",
      "source": [
        "**Raise exception:** Hum khudseh bhi error throw kar sakte hai"
      ],
      "metadata": {
        "id": "FZmbCZSo03cg"
      }
    },
    {
      "cell_type": "code",
      "source": [
        "raise Exception(\"List is empty\")"
      ],
      "metadata": {
        "colab": {
          "base_uri": "https://localhost:8080/",
          "height": 166
        },
        "id": "908H_ebs0jaB",
        "outputId": "3adc50e5-bef8-4b04-a461-ff95566fe81f"
      },
      "execution_count": 118,
      "outputs": [
        {
          "output_type": "error",
          "ename": "Exception",
          "evalue": "ignored",
          "traceback": [
            "\u001b[0;31m---------------------------------------------------------------------------\u001b[0m",
            "\u001b[0;31mException\u001b[0m                                 Traceback (most recent call last)",
            "\u001b[0;32m<ipython-input-118-84d6cd2fc5bb>\u001b[0m in \u001b[0;36m<module>\u001b[0;34m()\u001b[0m\n\u001b[0;32m----> 1\u001b[0;31m \u001b[0;32mraise\u001b[0m \u001b[0mException\u001b[0m\u001b[0;34m(\u001b[0m\u001b[0;34m\"List is empty\"\u001b[0m\u001b[0;34m)\u001b[0m\u001b[0;34m\u001b[0m\u001b[0;34m\u001b[0m\u001b[0m\n\u001b[0m",
            "\u001b[0;31mException\u001b[0m: List is empty"
          ]
        }
      ]
    },
    {
      "cell_type": "markdown",
      "source": [
        "### Function"
      ],
      "metadata": {
        "id": "GbBf-cdH2N9y"
      }
    },
    {
      "cell_type": "code",
      "source": [
        "def func():\n",
        "  print(\"hello\")\n",
        "  return \"test\""
      ],
      "metadata": {
        "id": "KxIF3u_N12bX"
      },
      "execution_count": 119,
      "outputs": []
    },
    {
      "cell_type": "code",
      "source": [
        "print(func())"
      ],
      "metadata": {
        "colab": {
          "base_uri": "https://localhost:8080/"
        },
        "id": "OywlZ98eDg7J",
        "outputId": "3fa9da99-1236-4087-8245-1749655cacc9"
      },
      "execution_count": 120,
      "outputs": [
        {
          "output_type": "stream",
          "name": "stdout",
          "text": [
            "hello\n",
            "test\n"
          ]
        }
      ]
    },
    {
      "cell_type": "code",
      "source": [
        "def func2():\n",
        "  print(\"Whats up\")\n",
        "  return 100"
      ],
      "metadata": {
        "id": "QKGvXtOLDyTk"
      },
      "execution_count": 121,
      "outputs": []
    },
    {
      "cell_type": "code",
      "source": [
        "print(func2())"
      ],
      "metadata": {
        "colab": {
          "base_uri": "https://localhost:8080/"
        },
        "id": "ZcL54_8SD6kP",
        "outputId": "fba416e8-2f89-4ffb-c7d5-a4d8bcf08d5b"
      },
      "execution_count": 122,
      "outputs": [
        {
          "output_type": "stream",
          "name": "stdout",
          "text": [
            "Whats up\n",
            "100\n"
          ]
        }
      ]
    },
    {
      "cell_type": "markdown",
      "source": [
        "**Passing an argment in Function()**"
      ],
      "metadata": {
        "id": "OahCI2KxESQF"
      }
    },
    {
      "cell_type": "code",
      "source": [
        "def func3(x,y):\n",
        "  print(\"hello ji\")\n",
        "  return x+y"
      ],
      "metadata": {
        "id": "EPF9mnasD-gH"
      },
      "execution_count": 123,
      "outputs": []
    },
    {
      "cell_type": "code",
      "source": [
        "print(func3(5,10))"
      ],
      "metadata": {
        "colab": {
          "base_uri": "https://localhost:8080/"
        },
        "id": "0m8ov4rfEop0",
        "outputId": "f2a5506d-0434-4da8-ee98-1858b7838a5a"
      },
      "execution_count": 124,
      "outputs": [
        {
          "output_type": "stream",
          "name": "stdout",
          "text": [
            "hello ji\n",
            "15\n"
          ]
        }
      ]
    },
    {
      "cell_type": "markdown",
      "source": [
        "### **Object Oriented programing(OOPS)**"
      ],
      "metadata": {
        "id": "I_tVMhdGEv-x"
      }
    },
    {
      "cell_type": "markdown",
      "source": [
        "Class is a blueprint of object, in reality class is empty. It is dummy and will show what will be present in Object\n",
        "\n",
        "Object is real thing\n",
        "\n",
        "class is made from keyword\n",
        "\n",
        "Class contains constructor and constructor is called first on its own for initializing the variables members in the class\n",
        "\n",
        "First member in the class constructor is always self and it is called first"
      ],
      "metadata": {
        "id": "Eou1ViSkFh_Q"
      }
    },
    {
      "cell_type": "markdown",
      "source": [
        "Here MyClass is te dummy class created which will show the class contains name and age. Here \"init\" is the constructor and \"self\" command needs to be called at the start \n",
        "\n",
        "Here we just need to write \"self\" in the constructor but we dont need to pass any value in the self. \n",
        "\n",
        "The same way we dont need to pass anything in the func(self) but we just need to add self first in the func variables\n",
        "\n",
        "**\"Self\" is like This keyword of Java**\n",
        "\n",
        "Here instead of \"self\" we can write any variable name"
      ],
      "metadata": {
        "id": "PqI6ObATLKxm"
      }
    },
    {
      "cell_type": "code",
      "source": [
        "class MyClass:\n",
        " def __init__(self):\n",
        "   self.name=\"Harsh\"\n",
        "   self.age=21\n",
        "\n",
        "##now object is created for the class which was created earlier above\n",
        "\n",
        "obj = MyClass()\n"
      ],
      "metadata": {
        "id": "CmNQZHmsEsMz"
      },
      "execution_count": 125,
      "outputs": []
    },
    {
      "cell_type": "code",
      "source": [
        "print(obj.name,obj.age)"
      ],
      "metadata": {
        "colab": {
          "base_uri": "https://localhost:8080/"
        },
        "id": "91IKmxBkHmgt",
        "outputId": "eb508ff2-d096-4b67-e22a-d6030e1b5013"
      },
      "execution_count": 126,
      "outputs": [
        {
          "output_type": "stream",
          "name": "stdout",
          "text": [
            "Harsh 21\n"
          ]
        }
      ]
    },
    {
      "cell_type": "markdown",
      "source": [
        "**Here MyClass will not have anything, it is just a blue print of object \"obj\"**"
      ],
      "metadata": {
        "id": "IdINXn-cIHaS"
      }
    },
    {
      "cell_type": "code",
      "source": [
        "print(MyClass.name)"
      ],
      "metadata": {
        "colab": {
          "base_uri": "https://localhost:8080/",
          "height": 166
        },
        "id": "sT8Nu7xnH-hI",
        "outputId": "68701674-83a4-4d1e-b715-1b064fa6eeb5"
      },
      "execution_count": 127,
      "outputs": [
        {
          "output_type": "error",
          "ename": "AttributeError",
          "evalue": "ignored",
          "traceback": [
            "\u001b[0;31m---------------------------------------------------------------------------\u001b[0m",
            "\u001b[0;31mAttributeError\u001b[0m                            Traceback (most recent call last)",
            "\u001b[0;32m<ipython-input-127-24fa32263025>\u001b[0m in \u001b[0;36m<module>\u001b[0;34m()\u001b[0m\n\u001b[0;32m----> 1\u001b[0;31m \u001b[0mprint\u001b[0m\u001b[0;34m(\u001b[0m\u001b[0mMyClass\u001b[0m\u001b[0;34m.\u001b[0m\u001b[0mname\u001b[0m\u001b[0;34m)\u001b[0m\u001b[0;34m\u001b[0m\u001b[0;34m\u001b[0m\u001b[0m\n\u001b[0m",
            "\u001b[0;31mAttributeError\u001b[0m: type object 'MyClass' has no attribute 'name'"
          ]
        }
      ]
    },
    {
      "cell_type": "markdown",
      "source": [
        "**Now Two objects are created and value is changed in them **"
      ],
      "metadata": {
        "id": "RpKX7WlLJl25"
      }
    },
    {
      "cell_type": "code",
      "source": [
        "class MyClass:\n",
        " def __init__(self):\n",
        "   self.name=\"Harsh\"\n",
        "   self.age=21\n",
        "  \n",
        "obj=MyClass()\n",
        "obj2=MyClass()"
      ],
      "metadata": {
        "id": "BQuCJ-lmJotE"
      },
      "execution_count": 129,
      "outputs": []
    },
    {
      "cell_type": "code",
      "source": [
        "obj.name= \"Mehul\"\n",
        "obj.age= 25"
      ],
      "metadata": {
        "id": "HCyCJ2N1Jyqp"
      },
      "execution_count": 128,
      "outputs": []
    },
    {
      "cell_type": "code",
      "source": [
        "print(obj.name,obj.age)\n",
        "print(obj2.name,obj2.age)"
      ],
      "metadata": {
        "colab": {
          "base_uri": "https://localhost:8080/",
          "height": 201
        },
        "id": "2YSrE53TJ7G2",
        "outputId": "aa36f9ba-f192-41f8-f122-29b39af3ead7"
      },
      "execution_count": 129,
      "outputs": [
        {
          "output_type": "stream",
          "name": "stdout",
          "text": [
            "Mehul 25\n"
          ]
        },
        {
          "output_type": "error",
          "ename": "NameError",
          "evalue": "ignored",
          "traceback": [
            "\u001b[0;31m---------------------------------------------------------------------------\u001b[0m",
            "\u001b[0;31mNameError\u001b[0m                                 Traceback (most recent call last)",
            "\u001b[0;32m<ipython-input-129-dfc667d115d6>\u001b[0m in \u001b[0;36m<module>\u001b[0;34m()\u001b[0m\n\u001b[1;32m      1\u001b[0m \u001b[0mprint\u001b[0m\u001b[0;34m(\u001b[0m\u001b[0mobj\u001b[0m\u001b[0;34m.\u001b[0m\u001b[0mname\u001b[0m\u001b[0;34m,\u001b[0m\u001b[0mobj\u001b[0m\u001b[0;34m.\u001b[0m\u001b[0mage\u001b[0m\u001b[0;34m)\u001b[0m\u001b[0;34m\u001b[0m\u001b[0;34m\u001b[0m\u001b[0m\n\u001b[0;32m----> 2\u001b[0;31m \u001b[0mprint\u001b[0m\u001b[0;34m(\u001b[0m\u001b[0mobj2\u001b[0m\u001b[0;34m.\u001b[0m\u001b[0mname\u001b[0m\u001b[0;34m,\u001b[0m\u001b[0mobj2\u001b[0m\u001b[0;34m.\u001b[0m\u001b[0mage\u001b[0m\u001b[0;34m)\u001b[0m\u001b[0;34m\u001b[0m\u001b[0;34m\u001b[0m\u001b[0m\n\u001b[0m",
            "\u001b[0;31mNameError\u001b[0m: name 'obj2' is not defined"
          ]
        }
      ]
    },
    {
      "cell_type": "markdown",
      "source": [
        "Here \"self\" is an object. Here \"self\" is Non static"
      ],
      "metadata": {
        "id": "l9ryvlrbNN39"
      }
    },
    {
      "cell_type": "code",
      "source": [
        "class MyClass:\n",
        " def __init__(self):\n",
        "   self.name=\"Harsh\"\n",
        "   self.age=21\n",
        "\n",
        " def func(self,x,y):\n",
        "   print(self.age)\n",
        "   return x+y\n",
        "  \n",
        "obj=MyClass()\n",
        "obj2=MyClass()"
      ],
      "metadata": {
        "id": "lQqWMUGmKN2_"
      },
      "execution_count": 130,
      "outputs": []
    },
    {
      "cell_type": "markdown",
      "source": [
        "Here we just we need to add x and y value ie 20 and 30 and no need to add value for self variable as it is a dummy variable for constructor"
      ],
      "metadata": {
        "id": "nQ3bG5PFMMT1"
      }
    },
    {
      "cell_type": "code",
      "source": [
        "val = obj.func(10,20)\n",
        "print(val)"
      ],
      "metadata": {
        "colab": {
          "base_uri": "https://localhost:8080/"
        },
        "id": "vxdmUQwQLrXQ",
        "outputId": "d1732244-e5fa-472f-ab36-991f513e7139"
      },
      "execution_count": 131,
      "outputs": [
        {
          "output_type": "stream",
          "name": "stdout",
          "text": [
            "21\n",
            "30\n"
          ]
        }
      ]
    },
    {
      "cell_type": "markdown",
      "source": [
        "We can write also without \"Self\" variable and the constructor without object is called Static method and which does not need object and can be called with the help of class\n",
        "\n",
        "'def' is used for defining the value \n",
        "\"__init__\" is used as a name of constructor and cannot be changed if we want to create an object.\"__init__ remains same throughout\n",
        "\n"
      ],
      "metadata": {
        "id": "snu606G8M_WO"
      }
    },
    {
      "cell_type": "code",
      "source": [
        "class MyClass:\n",
        "  def __init__(self):\n",
        "    self.name=\"mehul\"\n",
        "    self.age=30\n",
        "\n",
        "  def attr():\n",
        "    print(\"test\")\n",
        "  \n",
        "  def func2(a,b):\n",
        "    return a+b\n",
        "  \n",
        "obj=MyClass()"
      ],
      "metadata": {
        "id": "eaSdfOBkMGx1"
      },
      "execution_count": 160,
      "outputs": []
    },
    {
      "cell_type": "code",
      "source": [
        "val=MyClass.func2(2,5)\n",
        "print(val)\n",
        "\n",
        "print(MyClass.attr())"
      ],
      "metadata": {
        "colab": {
          "base_uri": "https://localhost:8080/"
        },
        "id": "DBiKXq8PkHB5",
        "outputId": "6e0c2314-f558-4f18-e9fc-75bf14f5e151"
      },
      "execution_count": 161,
      "outputs": [
        {
          "output_type": "stream",
          "name": "stdout",
          "text": [
            "7\n",
            "test\n",
            "None\n"
          ]
        }
      ]
    },
    {
      "cell_type": "code",
      "source": [
        "class MyClass:\n",
        "  def __init__(self):\n",
        "    self.name=\"Lala\"\n",
        "    self.age=1\n",
        "  \n",
        "  ####non Static function- Contains self and object is created \n",
        "  def func3(self,x,y):\n",
        "    print(self.age)\n",
        "    return x-y\n",
        "  \n",
        "  ###Static function without object-does not contain self\n",
        "  def func4(c,d):\n",
        "    return c+d\n",
        "obj4=MyClass()\n",
        "\n"
      ],
      "metadata": {
        "id": "YDyQtRMPkylB"
      },
      "execution_count": 162,
      "outputs": []
    },
    {
      "cell_type": "code",
      "source": [
        "val=obj4.func3(10,5)\n",
        "print(val)\n",
        "\n",
        "val2=MyClass.func4(10,5)\n",
        "print(val2)"
      ],
      "metadata": {
        "colab": {
          "base_uri": "https://localhost:8080/"
        },
        "id": "zfaA3mepmiUC",
        "outputId": "e8368516-4a5c-446a-e61e-b95d09d514d9"
      },
      "execution_count": 163,
      "outputs": [
        {
          "output_type": "stream",
          "name": "stdout",
          "text": [
            "1\n",
            "5\n",
            "15\n"
          ]
        }
      ]
    },
    {
      "cell_type": "markdown",
      "source": [
        "**Inheritance **\n",
        "\n",
        "Here inside employee class there is no need to write name and idname again so we inherit personal class\n",
        "\n",
        "Here Person is a \"parent\" class and \"employee\" is a child class"
      ],
      "metadata": {
        "id": "_2s-JqrP6uMe"
      }
    },
    {
      "cell_type": "code",
      "source": [
        "class Person:\n",
        "  def __init__(self,name,idname):\n",
        "    self.name=name\n",
        "    self.idname=idname\n",
        "    print(\"In person class\")\n",
        "\n",
        "  def hii(self):\n",
        "    print(\"My name is \",self.name)\n",
        "\n",
        "##Inherit qualities of Person to Employee classs\n",
        "\n",
        "class Employee(Person):\n",
        "  def __init__(self,name,idname,salary, post):\n",
        "    self.salary=salary\n",
        "    self.post=post\n",
        "    print(\"In employee class\")\n",
        "\n",
        "##name andd idname person class ko nahi mila hai abh tak so to do it we do \n",
        "\n",
        "    Person.__init__(self,name,idname)\n",
        "class President(Person):\n",
        "  def __init__(self,name,idname,country, age):\n",
        "    self.country=scountry\n",
        "    self.age=age\n",
        "    print(\"In President class\")\n",
        "\n"
      ],
      "metadata": {
        "id": "l53sq6nSm4Y_"
      },
      "execution_count": 166,
      "outputs": []
    },
    {
      "cell_type": "code",
      "source": [
        "obj=Person(\"Harsh\",786)\n",
        "obj.hii()\n",
        "\n"
      ],
      "metadata": {
        "colab": {
          "base_uri": "https://localhost:8080/"
        },
        "id": "nh4ErP699AQj",
        "outputId": "602df2d4-05a9-481b-fd83-96c862cfaa2e"
      },
      "execution_count": 168,
      "outputs": [
        {
          "output_type": "stream",
          "name": "stdout",
          "text": [
            "In person class\n",
            "My name is  Harsh\n"
          ]
        }
      ]
    },
    {
      "cell_type": "code",
      "source": [
        "obj2= Employee(\"Mehul\",900,100000,\"Intern\")\n"
      ],
      "metadata": {
        "colab": {
          "base_uri": "https://localhost:8080/"
        },
        "id": "vtYuE8bOEku7",
        "outputId": "ef4d7673-c026-4992-d94d-363759c82070"
      },
      "execution_count": 169,
      "outputs": [
        {
          "output_type": "stream",
          "name": "stdout",
          "text": [
            "In employee class\n",
            "In person class\n"
          ]
        }
      ]
    },
    {
      "cell_type": "code",
      "source": [
        "\n",
        "obj2.hii()"
      ],
      "metadata": {
        "colab": {
          "base_uri": "https://localhost:8080/"
        },
        "id": "Br_X1lNqEmvP",
        "outputId": "6a86f1a7-7eb3-4316-afb5-f8ede8c69bf0"
      },
      "execution_count": 170,
      "outputs": [
        {
          "output_type": "stream",
          "name": "stdout",
          "text": [
            "My name is  Mehul\n"
          ]
        }
      ]
    },
    {
      "cell_type": "code",
      "source": [
        ""
      ],
      "metadata": {
        "id": "o_ZbfAmtEoe_"
      },
      "execution_count": null,
      "outputs": []
    }
  ]
}