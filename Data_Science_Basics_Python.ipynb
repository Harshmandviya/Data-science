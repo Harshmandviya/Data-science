{
  "nbformat": 4,
  "nbformat_minor": 0,
  "metadata": {
    "colab": {
      "name": "Data Science Basics Python.ipynb",
      "provenance": [],
      "collapsed_sections": [],
      "authorship_tag": "ABX9TyMcJkkkjolMQoOGu9OfAMTO",
      "include_colab_link": true
    },
    "kernelspec": {
      "name": "python3",
      "display_name": "Python 3"
    },
    "language_info": {
      "name": "python"
    }
  },
  "cells": [
    {
      "cell_type": "markdown",
      "metadata": {
        "id": "view-in-github",
        "colab_type": "text"
      },
      "source": [
        "<a href=\"https://colab.research.google.com/github/Harshmandviya/Data-science/blob/main/Data_Science_Basics_Python.ipynb\" target=\"_parent\"><img src=\"https://colab.research.google.com/assets/colab-badge.svg\" alt=\"Open In Colab\"/></a>"
      ]
    },
    {
      "cell_type": "code",
      "execution_count": 1,
      "metadata": {
        "colab": {
          "base_uri": "https://localhost:8080/"
        },
        "id": "bWroAJvRVZbR",
        "outputId": "d81880e9-de7d-4168-b5e1-1b03e1573d25"
      },
      "outputs": [
        {
          "output_type": "stream",
          "name": "stdout",
          "text": [
            "hello pepcoding\n"
          ]
        }
      ],
      "source": [
        "print(\"hello pepcoding\")"
      ]
    },
    {
      "cell_type": "markdown",
      "source": [
        "No need to give datatype i python to assign values to variables"
      ],
      "metadata": {
        "id": "551HAjS5K_yA"
      }
    },
    {
      "cell_type": "code",
      "source": [
        "num=10"
      ],
      "metadata": {
        "id": "nEuT1LkJVihY"
      },
      "execution_count": 2,
      "outputs": []
    },
    {
      "cell_type": "code",
      "source": [
        "string=\"Pepcoding\""
      ],
      "metadata": {
        "id": "OhONLtEfV0n8"
      },
      "execution_count": 3,
      "outputs": []
    },
    {
      "cell_type": "code",
      "source": [
        "flt=2.2"
      ],
      "metadata": {
        "id": "62SVZR1qV4nT"
      },
      "execution_count": 4,
      "outputs": []
    },
    {
      "cell_type": "code",
      "source": [
        "print(type(string))\n",
        "print(type(flt))"
      ],
      "metadata": {
        "colab": {
          "base_uri": "https://localhost:8080/"
        },
        "id": "WiG7IUivWDPx",
        "outputId": "79019572-e587-4ae1-bae7-1b01575cfc86"
      },
      "execution_count": 5,
      "outputs": [
        {
          "output_type": "stream",
          "name": "stdout",
          "text": [
            "<class 'str'>\n",
            "<class 'float'>\n"
          ]
        }
      ]
    },
    {
      "cell_type": "code",
      "source": [
        "print(type(num),type(string),type(flt))"
      ],
      "metadata": {
        "colab": {
          "base_uri": "https://localhost:8080/"
        },
        "id": "9XvdByQEWLf3",
        "outputId": "09e266ef-b0d6-4d61-ac0f-1838388cfd21"
      },
      "execution_count": 6,
      "outputs": [
        {
          "output_type": "stream",
          "name": "stdout",
          "text": [
            "<class 'int'> <class 'str'> <class 'float'>\n"
          ]
        }
      ]
    },
    {
      "cell_type": "code",
      "source": [
        "a,b,c=10,20,30"
      ],
      "metadata": {
        "id": "fbIO5SzMWd0k"
      },
      "execution_count": 7,
      "outputs": []
    },
    {
      "cell_type": "code",
      "source": [
        "a=b=c=50\n"
      ],
      "metadata": {
        "id": "neQmlsOzWzjd"
      },
      "execution_count": 8,
      "outputs": []
    },
    {
      "cell_type": "code",
      "source": [
        "print(a,b,c)"
      ],
      "metadata": {
        "colab": {
          "base_uri": "https://localhost:8080/"
        },
        "id": "F9acNIKbW2zq",
        "outputId": "a3409d63-3ba9-40e9-975d-30eb29d02432"
      },
      "execution_count": 9,
      "outputs": [
        {
          "output_type": "stream",
          "name": "stdout",
          "text": [
            "50 50 50\n"
          ]
        }
      ]
    },
    {
      "cell_type": "code",
      "source": [
        "import keyword\n",
        "print(keyword.kwlist)"
      ],
      "metadata": {
        "colab": {
          "base_uri": "https://localhost:8080/"
        },
        "id": "p0Ez27xQXA-v",
        "outputId": "0b96b328-fbff-42b0-8b11-798f2aba251f"
      },
      "execution_count": 10,
      "outputs": [
        {
          "output_type": "stream",
          "name": "stdout",
          "text": [
            "['False', 'None', 'True', 'and', 'as', 'assert', 'async', 'await', 'break', 'class', 'continue', 'def', 'del', 'elif', 'else', 'except', 'finally', 'for', 'from', 'global', 'if', 'import', 'in', 'is', 'lambda', 'nonlocal', 'not', 'or', 'pass', 'raise', 'return', 'try', 'while', 'with', 'yield']\n"
          ]
        }
      ]
    },
    {
      "cell_type": "code",
      "source": [
        "import keyword\n",
        "print(keyword.kwlist)"
      ],
      "metadata": {
        "colab": {
          "base_uri": "https://localhost:8080/"
        },
        "id": "njC9UoKLXLv5",
        "outputId": "53449f29-9b03-47b9-dd41-0633ba444721"
      },
      "execution_count": 11,
      "outputs": [
        {
          "output_type": "stream",
          "name": "stdout",
          "text": [
            "['False', 'None', 'True', 'and', 'as', 'assert', 'async', 'await', 'break', 'class', 'continue', 'def', 'del', 'elif', 'else', 'except', 'finally', 'for', 'from', 'global', 'if', 'import', 'in', 'is', 'lambda', 'nonlocal', 'not', 'or', 'pass', 'raise', 'return', 'try', 'while', 'with', 'yield']\n"
          ]
        }
      ]
    },
    {
      "cell_type": "code",
      "source": [
        "a,b,c=10,20,50\n",
        "print(a,b,c)"
      ],
      "metadata": {
        "colab": {
          "base_uri": "https://localhost:8080/"
        },
        "id": "QamOJ4ooXRrP",
        "outputId": "a64d3d9b-cfc9-43d3-c658-703a1a3eecdb"
      },
      "execution_count": 12,
      "outputs": [
        {
          "output_type": "stream",
          "name": "stdout",
          "text": [
            "10 20 50\n"
          ]
        }
      ]
    },
    {
      "cell_type": "code",
      "source": [
        "num1=10\n",
        "num2=10+20j\n",
        "num3=20+12\n",
        "print(num1,num3,num2)"
      ],
      "metadata": {
        "colab": {
          "base_uri": "https://localhost:8080/"
        },
        "id": "GoKOK47IXXSs",
        "outputId": "420ebb13-fde3-4895-a852-abe3ccf98a77"
      },
      "execution_count": 13,
      "outputs": [
        {
          "output_type": "stream",
          "name": "stdout",
          "text": [
            "10 32 (10+20j)\n"
          ]
        }
      ]
    },
    {
      "cell_type": "markdown",
      "source": [
        ""
      ],
      "metadata": {
        "id": "XGfB8Qd7H4Ax"
      }
    },
    {
      "cell_type": "code",
      "source": [
        ""
      ],
      "metadata": {
        "id": "0pC8Z2aXXpS1"
      },
      "execution_count": null,
      "outputs": []
    },
    {
      "cell_type": "markdown",
      "source": [
        "**String** \n",
        "\n",
        "\n",
        "**String is Immutable(cannot be changed)**"
      ],
      "metadata": {
        "id": "zHJgJaXAYCqZ"
      }
    },
    {
      "cell_type": "code",
      "source": [
        "phrase=\"pepcoding\""
      ],
      "metadata": {
        "id": "HsBVlBfQYFTL"
      },
      "execution_count": 14,
      "outputs": []
    },
    {
      "cell_type": "code",
      "source": [
        "print(phrase[0])"
      ],
      "metadata": {
        "colab": {
          "base_uri": "https://localhost:8080/"
        },
        "id": "EALMsHJmYjXl",
        "outputId": "e59055c3-c47e-4950-8b2e-2825a2dcda62"
      },
      "execution_count": 15,
      "outputs": [
        {
          "output_type": "stream",
          "name": "stdout",
          "text": [
            "p\n"
          ]
        }
      ]
    },
    {
      "cell_type": "code",
      "source": [
        "phrase[0]='i'"
      ],
      "metadata": {
        "colab": {
          "base_uri": "https://localhost:8080/",
          "height": 166
        },
        "id": "r0NYmq80YmLD",
        "outputId": "d203966b-8abc-4066-a9a8-759189a62f53"
      },
      "execution_count": 16,
      "outputs": [
        {
          "output_type": "error",
          "ename": "TypeError",
          "evalue": "ignored",
          "traceback": [
            "\u001b[0;31m---------------------------------------------------------------------------\u001b[0m",
            "\u001b[0;31mTypeError\u001b[0m                                 Traceback (most recent call last)",
            "\u001b[0;32m<ipython-input-16-2c2bee793f88>\u001b[0m in \u001b[0;36m<module>\u001b[0;34m()\u001b[0m\n\u001b[0;32m----> 1\u001b[0;31m \u001b[0mphrase\u001b[0m\u001b[0;34m[\u001b[0m\u001b[0;36m0\u001b[0m\u001b[0;34m]\u001b[0m\u001b[0;34m=\u001b[0m\u001b[0;34m'i'\u001b[0m\u001b[0;34m\u001b[0m\u001b[0;34m\u001b[0m\u001b[0m\n\u001b[0m",
            "\u001b[0;31mTypeError\u001b[0m: 'str' object does not support item assignment"
          ]
        }
      ]
    },
    {
      "cell_type": "markdown",
      "source": [
        "**As string is immutable we cannot change the value of string once assigned**"
      ],
      "metadata": {
        "id": "NjqjtGIAYtUR"
      }
    },
    {
      "cell_type": "markdown",
      "source": [
        "**`Slicing in Pyton`**\n",
        "\n",
        "**(start:end:step)**\n",
        "\n",
        "Here start value is included; end is excluded and step is counting\n",
        "\n",
        "When we have positive step size it should first start then end ie. When start<end ----- STEP IS GREATER THAN 0\n",
        "\n",
        "When start>end ------STEP IS LESS THAN 0\n",
        "\n",
        "Default start is 0; default end is length and Default and When step is not defined default is 1"
      ],
      "metadata": {
        "id": "Xc_FOphCZAfl"
      }
    },
    {
      "cell_type": "markdown",
      "source": [
        "012345678\n",
        "\n",
        "pepcoding"
      ],
      "metadata": {
        "id": "l6UgtgNiZHvE"
      }
    },
    {
      "cell_type": "code",
      "source": [
        "phrase[0:3]"
      ],
      "metadata": {
        "colab": {
          "base_uri": "https://localhost:8080/",
          "height": 35
        },
        "id": "YpxykQRWY_ab",
        "outputId": "ac0a0324-ceef-4019-eedc-ae624324dc05"
      },
      "execution_count": 17,
      "outputs": [
        {
          "output_type": "execute_result",
          "data": {
            "application/vnd.google.colaboratory.intrinsic+json": {
              "type": "string"
            },
            "text/plain": [
              "'pep'"
            ]
          },
          "metadata": {},
          "execution_count": 17
        }
      ]
    },
    {
      "cell_type": "code",
      "source": [
        "phrase[0:]"
      ],
      "metadata": {
        "colab": {
          "base_uri": "https://localhost:8080/",
          "height": 35
        },
        "id": "OT_j7MMgZVMc",
        "outputId": "ff1c8090-e086-45a9-ad48-3b7b17dceb6a"
      },
      "execution_count": 18,
      "outputs": [
        {
          "output_type": "execute_result",
          "data": {
            "application/vnd.google.colaboratory.intrinsic+json": {
              "type": "string"
            },
            "text/plain": [
              "'pepcoding'"
            ]
          },
          "metadata": {},
          "execution_count": 18
        }
      ]
    },
    {
      "cell_type": "code",
      "source": [
        "phrase[:]"
      ],
      "metadata": {
        "colab": {
          "base_uri": "https://localhost:8080/",
          "height": 35
        },
        "id": "KUDDx6ovZYxl",
        "outputId": "677472c9-3069-4b72-8ca5-756234c47f2d"
      },
      "execution_count": 19,
      "outputs": [
        {
          "output_type": "execute_result",
          "data": {
            "application/vnd.google.colaboratory.intrinsic+json": {
              "type": "string"
            },
            "text/plain": [
              "'pepcoding'"
            ]
          },
          "metadata": {},
          "execution_count": 19
        }
      ]
    },
    {
      "cell_type": "code",
      "source": [
        "phrase[:7]"
      ],
      "metadata": {
        "colab": {
          "base_uri": "https://localhost:8080/",
          "height": 35
        },
        "id": "rwb5Yf_yaTW-",
        "outputId": "8491f4ae-c70c-4be7-fb68-ec78e97a5f1b"
      },
      "execution_count": 20,
      "outputs": [
        {
          "output_type": "execute_result",
          "data": {
            "application/vnd.google.colaboratory.intrinsic+json": {
              "type": "string"
            },
            "text/plain": [
              "'pepcodi'"
            ]
          },
          "metadata": {},
          "execution_count": 20
        }
      ]
    },
    {
      "cell_type": "code",
      "source": [
        "phrase[0:6:2]"
      ],
      "metadata": {
        "colab": {
          "base_uri": "https://localhost:8080/",
          "height": 35
        },
        "id": "ESihF_WqaX0S",
        "outputId": "b30bcc32-cc05-49bf-e636-98548090422e"
      },
      "execution_count": 21,
      "outputs": [
        {
          "output_type": "execute_result",
          "data": {
            "application/vnd.google.colaboratory.intrinsic+json": {
              "type": "string"
            },
            "text/plain": [
              "'ppo'"
            ]
          },
          "metadata": {},
          "execution_count": 21
        }
      ]
    },
    {
      "cell_type": "code",
      "source": [
        "phrase[7:1:1]"
      ],
      "metadata": {
        "colab": {
          "base_uri": "https://localhost:8080/",
          "height": 35
        },
        "id": "VyBrZ4fja-ZO",
        "outputId": "654fd4d1-fd9e-47ad-8b8e-cdf20aae545f"
      },
      "execution_count": 22,
      "outputs": [
        {
          "output_type": "execute_result",
          "data": {
            "application/vnd.google.colaboratory.intrinsic+json": {
              "type": "string"
            },
            "text/plain": [
              "''"
            ]
          },
          "metadata": {},
          "execution_count": 22
        }
      ]
    },
    {
      "cell_type": "markdown",
      "source": [
        "**There was no output here as we cannot print this,here start needs to come first and end needs to come after it.Did not find anything in this input provided**"
      ],
      "metadata": {
        "id": "1h5rSpJfbUcI"
      }
    },
    {
      "cell_type": "markdown",
      "source": [
        "**When step size is negative it should **\n",
        "\n",
        "\n",
        "**When step size is Negative it will count from backwards**\n",
        "When start>end ------STEP IS LESS THAN 0\n",
        "\n",
        "Default STEP SIZE for Negative value is -1\n",
        "\n",
        "**For Negative Step it is (end,start,step)**\n",
        "\n",
        "\n",
        "\n"
      ],
      "metadata": {
        "id": "lvRctyIWak5p"
      }
    },
    {
      "cell_type": "code",
      "source": [
        "phrase[7:1:-1]"
      ],
      "metadata": {
        "colab": {
          "base_uri": "https://localhost:8080/",
          "height": 35
        },
        "id": "KcoMe6pVbB47",
        "outputId": "5f0c0234-112a-4e9d-ac8b-5f0e0e8769aa"
      },
      "execution_count": 23,
      "outputs": [
        {
          "output_type": "execute_result",
          "data": {
            "application/vnd.google.colaboratory.intrinsic+json": {
              "type": "string"
            },
            "text/plain": [
              "'nidocp'"
            ]
          },
          "metadata": {},
          "execution_count": 23
        }
      ]
    },
    {
      "cell_type": "markdown",
      "source": [
        "-9-8-7-6-5-4-3-2-1\n",
        "\n",
        "   p  e  p  c  o  d  i  n  g\n",
        "\n",
        "**   -1 counts from behind**\n"
      ],
      "metadata": {
        "id": "XoHPi7rHdTfc"
      }
    },
    {
      "cell_type": "code",
      "source": [
        "phrase[-1]"
      ],
      "metadata": {
        "colab": {
          "base_uri": "https://localhost:8080/",
          "height": 35
        },
        "id": "-_3-q6fbd2hf",
        "outputId": "08ab87e1-b08c-4405-b864-c74a8b6d2a19"
      },
      "execution_count": 24,
      "outputs": [
        {
          "output_type": "execute_result",
          "data": {
            "application/vnd.google.colaboratory.intrinsic+json": {
              "type": "string"
            },
            "text/plain": [
              "'g'"
            ]
          },
          "metadata": {},
          "execution_count": 24
        }
      ]
    },
    {
      "cell_type": "code",
      "source": [
        "phrase[-1:-5:-1]"
      ],
      "metadata": {
        "colab": {
          "base_uri": "https://localhost:8080/",
          "height": 35
        },
        "id": "15IjQycAd5wP",
        "outputId": "69407bb4-b972-432b-d5b8-f9fa6d689149"
      },
      "execution_count": 25,
      "outputs": [
        {
          "output_type": "execute_result",
          "data": {
            "application/vnd.google.colaboratory.intrinsic+json": {
              "type": "string"
            },
            "text/plain": [
              "'gnid'"
            ]
          },
          "metadata": {},
          "execution_count": 25
        }
      ]
    },
    {
      "cell_type": "markdown",
      "source": [
        "**Reverse a String in python**\n",
        "\n",
        "Here we have added the negative step size and start and end is assumed by default. (end,start,negative step) here start is default 0 and end is length as default"
      ],
      "metadata": {
        "id": "3l_38T3UfCfS"
      }
    },
    {
      "cell_type": "code",
      "source": [
        "phrase[::-1]"
      ],
      "metadata": {
        "colab": {
          "base_uri": "https://localhost:8080/",
          "height": 35
        },
        "id": "i-aAR3Q7eFie",
        "outputId": "b99c800e-0160-4bae-f7ea-0665394b9a48"
      },
      "execution_count": 26,
      "outputs": [
        {
          "output_type": "execute_result",
          "data": {
            "application/vnd.google.colaboratory.intrinsic+json": {
              "type": "string"
            },
            "text/plain": [
              "'gnidocpep'"
            ]
          },
          "metadata": {},
          "execution_count": 26
        }
      ]
    },
    {
      "cell_type": "markdown",
      "source": [
        "**Counting Length of phrase**"
      ],
      "metadata": {
        "id": "6iLaZ1yCgG4r"
      }
    },
    {
      "cell_type": "code",
      "source": [
        "len(phrase)"
      ],
      "metadata": {
        "colab": {
          "base_uri": "https://localhost:8080/"
        },
        "id": "AHwmKMRCfAHr",
        "outputId": "b00cfd6e-f330-4403-bad7-752df17402e4"
      },
      "execution_count": 27,
      "outputs": [
        {
          "output_type": "execute_result",
          "data": {
            "text/plain": [
              "9"
            ]
          },
          "metadata": {},
          "execution_count": 27
        }
      ]
    },
    {
      "cell_type": "code",
      "source": [
        "phrase[-1:-9:-1]"
      ],
      "metadata": {
        "colab": {
          "base_uri": "https://localhost:8080/",
          "height": 35
        },
        "id": "3-mPRKNpgE79",
        "outputId": "f4a16aa4-9d0e-427b-8618-fb4e3a295577"
      },
      "execution_count": 28,
      "outputs": [
        {
          "output_type": "execute_result",
          "data": {
            "application/vnd.google.colaboratory.intrinsic+json": {
              "type": "string"
            },
            "text/plain": [
              "'gnidocpe'"
            ]
          },
          "metadata": {},
          "execution_count": 28
        }
      ]
    },
    {
      "cell_type": "markdown",
      "source": [
        "**For Loop in python**\n",
        "\n",
        "Here we donot take curly brackets but we need to indent the text after for loop\n"
      ],
      "metadata": {
        "id": "TM4R-0SQhxk2"
      }
    },
    {
      "cell_type": "code",
      "source": [
        "for ch in phrase:\n",
        "  print(ch)"
      ],
      "metadata": {
        "colab": {
          "base_uri": "https://localhost:8080/"
        },
        "id": "kBtv1o7piGvQ",
        "outputId": "315075de-f122-4262-a908-7364dbfc5f38"
      },
      "execution_count": 29,
      "outputs": [
        {
          "output_type": "stream",
          "name": "stdout",
          "text": [
            "p\n",
            "e\n",
            "p\n",
            "c\n",
            "o\n",
            "d\n",
            "i\n",
            "n\n",
            "g\n"
          ]
        }
      ]
    },
    {
      "cell_type": "markdown",
      "source": [
        "Check if a particular string in present in a particular string"
      ],
      "metadata": {
        "id": "20VACtuhidUN"
      }
    },
    {
      "cell_type": "code",
      "source": [
        "if \"pep\" in phrase:\n",
        "  print(\"found pep\")"
      ],
      "metadata": {
        "colab": {
          "base_uri": "https://localhost:8080/"
        },
        "id": "o4IvADcUis2V",
        "outputId": "131294a5-f2d9-4364-b3b0-3504397ea690"
      },
      "execution_count": 30,
      "outputs": [
        {
          "output_type": "stream",
          "name": "stdout",
          "text": [
            "found pep\n"
          ]
        }
      ]
    },
    {
      "cell_type": "markdown",
      "source": [
        "Upper case and Lower case in Python"
      ],
      "metadata": {
        "id": "gay-qwKajHRX"
      }
    },
    {
      "cell_type": "code",
      "source": [
        "phrase.upper()\n"
      ],
      "metadata": {
        "colab": {
          "base_uri": "https://localhost:8080/",
          "height": 35
        },
        "id": "8Hr5nsLGjNXl",
        "outputId": "5c00f8b7-ec48-4d08-fa49-ad386f033a3a"
      },
      "execution_count": 31,
      "outputs": [
        {
          "output_type": "execute_result",
          "data": {
            "application/vnd.google.colaboratory.intrinsic+json": {
              "type": "string"
            },
            "text/plain": [
              "'PEPCODING'"
            ]
          },
          "metadata": {},
          "execution_count": 31
        }
      ]
    },
    {
      "cell_type": "code",
      "source": [
        "phrase.lower()"
      ],
      "metadata": {
        "colab": {
          "base_uri": "https://localhost:8080/",
          "height": 35
        },
        "id": "J6p_qJRpjQ5R",
        "outputId": "507249f5-d367-4da3-fe19-edf5af76ea75"
      },
      "execution_count": 32,
      "outputs": [
        {
          "output_type": "execute_result",
          "data": {
            "application/vnd.google.colaboratory.intrinsic+json": {
              "type": "string"
            },
            "text/plain": [
              "'pepcoding'"
            ]
          },
          "metadata": {},
          "execution_count": 32
        }
      ]
    },
    {
      "cell_type": "markdown",
      "source": [
        "Spliting in Python"
      ],
      "metadata": {
        "id": "0ad1s9ohjbqN"
      }
    },
    {
      "cell_type": "code",
      "source": [
        " string=\"My name is Harsh Mandviya\"\n",
        " str2= string.split(\" \")"
      ],
      "metadata": {
        "id": "gM2fgpPyjlbO"
      },
      "execution_count": 33,
      "outputs": []
    },
    {
      "cell_type": "code",
      "source": [
        "print(str2)"
      ],
      "metadata": {
        "colab": {
          "base_uri": "https://localhost:8080/"
        },
        "id": "i_ue0-5Rj3Ns",
        "outputId": "74f0e9da-0c8e-4960-bfc8-a289e934ce55"
      },
      "execution_count": 34,
      "outputs": [
        {
          "output_type": "stream",
          "name": "stdout",
          "text": [
            "['My', 'name', 'is', 'Harsh', 'Mandviya']\n"
          ]
        }
      ]
    },
    {
      "cell_type": "markdown",
      "source": [
        "**If- else in python**\n",
        "\n",
        "Here we dont have curly brackets and we need to do indentation\n",
        "\n",
        "\n",
        "Instead of else if, Here we have **elif**\n"
      ],
      "metadata": {
        "id": "5zw2aQ2BkAGN"
      }
    },
    {
      "cell_type": "code",
      "source": [
        "if 1>2:\n",
        "  print(\"hanji\")\n",
        "else:\n",
        "    print(\"naji\")"
      ],
      "metadata": {
        "colab": {
          "base_uri": "https://localhost:8080/"
        },
        "id": "SVFKG6L1kD4Z",
        "outputId": "ca5b6b2f-dbc0-49bf-d489-3a594f53c883"
      },
      "execution_count": 35,
      "outputs": [
        {
          "output_type": "stream",
          "name": "stdout",
          "text": [
            "naji\n"
          ]
        }
      ]
    },
    {
      "cell_type": "code",
      "source": [
        "marks=100"
      ],
      "metadata": {
        "id": "Lic0yN6Mki4R"
      },
      "execution_count": 36,
      "outputs": []
    },
    {
      "cell_type": "code",
      "source": [
        "if marks>100:\n",
        "  print(\"excellent\")\n",
        "elif marks>90:\n",
        "  print(\"good\")\n",
        "else:\n",
        "  print(\"Pass\")"
      ],
      "metadata": {
        "colab": {
          "base_uri": "https://localhost:8080/"
        },
        "id": "B4DpWJPWkv6Q",
        "outputId": "675208fb-a325-4d21-f71e-238c05bf28cd"
      },
      "execution_count": null,
      "outputs": [
        {
          "output_type": "stream",
          "name": "stdout",
          "text": [
            "good\n"
          ]
        }
      ]
    },
    {
      "cell_type": "markdown",
      "source": [
        "Loops for repeatative iterations"
      ],
      "metadata": {
        "id": "8rSRqlzslquL"
      }
    },
    {
      "cell_type": "code",
      "source": [
        "for i in range(5):\n",
        " print(i)"
      ],
      "metadata": {
        "colab": {
          "base_uri": "https://localhost:8080/"
        },
        "id": "G5yCiiA7lw0a",
        "outputId": "4fba8687-7b6a-4b3b-8de7-89afd0896183"
      },
      "execution_count": 37,
      "outputs": [
        {
          "output_type": "stream",
          "name": "stdout",
          "text": [
            "0\n",
            "1\n",
            "2\n",
            "3\n",
            "4\n"
          ]
        }
      ]
    },
    {
      "cell_type": "code",
      "source": [
        "for i in range(2,10):\n",
        "  print(\"Hello world\")"
      ],
      "metadata": {
        "colab": {
          "base_uri": "https://localhost:8080/"
        },
        "id": "oP8-PI3UmErG",
        "outputId": "1633b26b-479c-4167-df6a-2a2059b74470"
      },
      "execution_count": 38,
      "outputs": [
        {
          "output_type": "stream",
          "name": "stdout",
          "text": [
            "Hello world\n",
            "Hello world\n",
            "Hello world\n",
            "Hello world\n",
            "Hello world\n",
            "Hello world\n",
            "Hello world\n",
            "Hello world\n"
          ]
        }
      ]
    },
    {
      "cell_type": "code",
      "source": [
        "for i in range(2,10,2):\n",
        "  print(i)\n"
      ],
      "metadata": {
        "colab": {
          "base_uri": "https://localhost:8080/"
        },
        "id": "dFCe_1OXmTAN",
        "outputId": "2612125f-25fc-46e7-8037-41dc08566ba1"
      },
      "execution_count": 39,
      "outputs": [
        {
          "output_type": "stream",
          "name": "stdout",
          "text": [
            "2\n",
            "4\n",
            "6\n",
            "8\n"
          ]
        }
      ]
    },
    {
      "cell_type": "code",
      "source": [
        "for i in range(-1,-9,-1):\n",
        "  print(i)\n",
        "for j in range(5,10,2):\n",
        "  print(j)"
      ],
      "metadata": {
        "colab": {
          "base_uri": "https://localhost:8080/"
        },
        "id": "m0qoquZPmb9y",
        "outputId": "4886b017-828b-4c84-cdc5-f30efecc11f0"
      },
      "execution_count": 40,
      "outputs": [
        {
          "output_type": "stream",
          "name": "stdout",
          "text": [
            "-1\n",
            "-2\n",
            "-3\n",
            "-4\n",
            "-5\n",
            "-6\n",
            "-7\n",
            "-8\n",
            "5\n",
            "7\n",
            "9\n"
          ]
        }
      ]
    },
    {
      "cell_type": "markdown",
      "source": [
        "Concatinating i in string"
      ],
      "metadata": {
        "id": "NjKHxclOm_VL"
      }
    },
    {
      "cell_type": "code",
      "source": [
        "for i in range(5):\n",
        "  print(i+\"hello\")"
      ],
      "metadata": {
        "colab": {
          "base_uri": "https://localhost:8080/",
          "height": 184
        },
        "id": "kXUEdRKYnDhU",
        "outputId": "89cee36a-b7bd-4c2f-a569-71e256717d63"
      },
      "execution_count": 41,
      "outputs": [
        {
          "output_type": "error",
          "ename": "TypeError",
          "evalue": "ignored",
          "traceback": [
            "\u001b[0;31m---------------------------------------------------------------------------\u001b[0m",
            "\u001b[0;31mTypeError\u001b[0m                                 Traceback (most recent call last)",
            "\u001b[0;32m<ipython-input-41-d49b5dfa0554>\u001b[0m in \u001b[0;36m<module>\u001b[0;34m()\u001b[0m\n\u001b[1;32m      1\u001b[0m \u001b[0;32mfor\u001b[0m \u001b[0mi\u001b[0m \u001b[0;32min\u001b[0m \u001b[0mrange\u001b[0m\u001b[0;34m(\u001b[0m\u001b[0;36m5\u001b[0m\u001b[0;34m)\u001b[0m\u001b[0;34m:\u001b[0m\u001b[0;34m\u001b[0m\u001b[0;34m\u001b[0m\u001b[0m\n\u001b[0;32m----> 2\u001b[0;31m   \u001b[0mprint\u001b[0m\u001b[0;34m(\u001b[0m\u001b[0mi\u001b[0m\u001b[0;34m+\u001b[0m\u001b[0;34m\"hello\"\u001b[0m\u001b[0;34m)\u001b[0m\u001b[0;34m\u001b[0m\u001b[0;34m\u001b[0m\u001b[0m\n\u001b[0m",
            "\u001b[0;31mTypeError\u001b[0m: unsupported operand type(s) for +: 'int' and 'str'"
          ]
        }
      ]
    },
    {
      "cell_type": "markdown",
      "source": [
        "Here it is showing error as i is int and hello is string so we need to convert everything into string by typecasting"
      ],
      "metadata": {
        "id": "_XHnmmO-njRm"
      }
    },
    {
      "cell_type": "code",
      "source": [
        "for i in range(5):\n",
        " print(str(i)+ \"hello\")"
      ],
      "metadata": {
        "colab": {
          "base_uri": "https://localhost:8080/"
        },
        "id": "VzPILF5nnl_K",
        "outputId": "c9ad4e5a-267e-476b-9ef9-6127ddf40a59"
      },
      "execution_count": 42,
      "outputs": [
        {
          "output_type": "stream",
          "name": "stdout",
          "text": [
            "0hello\n",
            "1hello\n",
            "2hello\n",
            "3hello\n",
            "4hello\n"
          ]
        }
      ]
    },
    {
      "cell_type": "markdown",
      "source": [
        "**Break and Continue in Python**"
      ],
      "metadata": {
        "id": "kxOsxGN3n5ZP"
      }
    },
    {
      "cell_type": "code",
      "source": [
        "for i in range(5):\n",
        " print(str(i)+ \"hello\")\n",
        " if(i==2):\n",
        "  break"
      ],
      "metadata": {
        "colab": {
          "base_uri": "https://localhost:8080/"
        },
        "id": "rs_5Hc3ynrq1",
        "outputId": "4466c2be-296c-43d3-b9fd-62a325a0dffa"
      },
      "execution_count": 43,
      "outputs": [
        {
          "output_type": "stream",
          "name": "stdout",
          "text": [
            "0hello\n",
            "1hello\n",
            "2hello\n"
          ]
        }
      ]
    },
    {
      "cell_type": "markdown",
      "source": [
        "If i==0,1,2,4 then continue and print i and hello but if i==3 then continue outside the loop"
      ],
      "metadata": {
        "id": "_M8aiV8UotBj"
      }
    },
    {
      "cell_type": "code",
      "source": [
        "for i in range(5):\n",
        "  if i == 3:\n",
        "    continue\n",
        "  print(str(i)+ \"hello\")\n"
      ],
      "metadata": {
        "colab": {
          "base_uri": "https://localhost:8080/"
        },
        "id": "Mt7_j5tloHir",
        "outputId": "cf29e95c-0fc5-4476-a0d0-234c7a81fe42"
      },
      "execution_count": 44,
      "outputs": [
        {
          "output_type": "stream",
          "name": "stdout",
          "text": [
            "0hello\n",
            "1hello\n",
            "2hello\n",
            "4hello\n"
          ]
        }
      ]
    },
    {
      "cell_type": "markdown",
      "source": [
        "**We should know these 4 Datatypes in Python:\n",
        "\n",
        "List \n",
        "\n",
        "Tuple \n",
        "\n",
        "Set \n",
        "\n",
        "Dictionary** "
      ],
      "metadata": {
        "id": "sTBE81Paps95"
      }
    },
    {
      "cell_type": "markdown",
      "source": [
        "**List: [ ]**\n",
        "\n",
        "It is Same as Array in C++\n",
        "\n",
        "1. **Dynamically sized**-(we can add as many elements as we want whenever we want and the size need not be fixed at the start)\n",
        "\n",
        "2. **Mutable**- element can be changed \n",
        "\n",
        "3. **Ordered**- Jis order meh dala wahi order meh rehta hai\n",
        "\n",
        "4. **Not compulsory to be Homogenious** - not compulsory all elements be string or all elements be integers. variety can be present\n",
        "\n",
        "5. **Allows Duplicacy- we can store duplicate elements in list**\n",
        "\n",
        "6. **List is Heterogenious ie. Values can be of different datatypes**\n",
        "\n",
        "Negative indexing"
      ],
      "metadata": {
        "id": "-4DM2EEFqJIi"
      }
    },
    {
      "cell_type": "code",
      "source": [
        "lst=[1,2,3,4,5]\n",
        "print(type(lst))"
      ],
      "metadata": {
        "colab": {
          "base_uri": "https://localhost:8080/"
        },
        "id": "RE7vk15jolFI",
        "outputId": "7ac15b65-3615-4026-dc4b-12691527bafa"
      },
      "execution_count": 45,
      "outputs": [
        {
          "output_type": "stream",
          "name": "stdout",
          "text": [
            "<class 'list'>\n"
          ]
        }
      ]
    },
    {
      "cell_type": "code",
      "source": [
        "lst.append(7,5,6)"
      ],
      "metadata": {
        "id": "VL0zJWfRrveQ",
        "colab": {
          "base_uri": "https://localhost:8080/",
          "height": 166
        },
        "outputId": "481b6ae6-4529-4878-d657-787174053488"
      },
      "execution_count": 46,
      "outputs": [
        {
          "output_type": "error",
          "ename": "TypeError",
          "evalue": "ignored",
          "traceback": [
            "\u001b[0;31m---------------------------------------------------------------------------\u001b[0m",
            "\u001b[0;31mTypeError\u001b[0m                                 Traceback (most recent call last)",
            "\u001b[0;32m<ipython-input-46-e2301bbd3641>\u001b[0m in \u001b[0;36m<module>\u001b[0;34m()\u001b[0m\n\u001b[0;32m----> 1\u001b[0;31m \u001b[0mlst\u001b[0m\u001b[0;34m.\u001b[0m\u001b[0mappend\u001b[0m\u001b[0;34m(\u001b[0m\u001b[0;36m7\u001b[0m\u001b[0;34m,\u001b[0m\u001b[0;36m5\u001b[0m\u001b[0;34m,\u001b[0m\u001b[0;36m6\u001b[0m\u001b[0;34m)\u001b[0m\u001b[0;34m\u001b[0m\u001b[0;34m\u001b[0m\u001b[0m\n\u001b[0m",
            "\u001b[0;31mTypeError\u001b[0m: append() takes exactly one argument (3 given)"
          ]
        }
      ]
    },
    {
      "cell_type": "code",
      "source": [
        "lst.append(\"harsh\")"
      ],
      "metadata": {
        "id": "P52WDMvMsMUB"
      },
      "execution_count": 47,
      "outputs": []
    },
    {
      "cell_type": "markdown",
      "source": [
        "Here we can see the list is ordered and the order is not changed, the order in which we printed is same as the order we added"
      ],
      "metadata": {
        "id": "UmweusMRs6e5"
      }
    },
    {
      "cell_type": "code",
      "source": [
        "print(lst)"
      ],
      "metadata": {
        "colab": {
          "base_uri": "https://localhost:8080/"
        },
        "id": "KsgwcnvjsjXW",
        "outputId": "2f751261-2858-4200-c4b8-31cc4abf4288"
      },
      "execution_count": 48,
      "outputs": [
        {
          "output_type": "stream",
          "name": "stdout",
          "text": [
            "[1, 2, 3, 4, 5, 'harsh']\n"
          ]
        }
      ]
    },
    {
      "cell_type": "markdown",
      "source": [
        "**Checking List is Mutable**"
      ],
      "metadata": {
        "id": "_3M_sGUqs1sJ"
      }
    },
    {
      "cell_type": "code",
      "source": [
        "lst[0]=500"
      ],
      "metadata": {
        "id": "0-4cMFfismez"
      },
      "execution_count": 49,
      "outputs": []
    },
    {
      "cell_type": "code",
      "source": [
        "print(lst)"
      ],
      "metadata": {
        "colab": {
          "base_uri": "https://localhost:8080/"
        },
        "id": "u0ADHv0WsqXt",
        "outputId": "e3a8a096-967b-4e78-c5c8-35ec95403109"
      },
      "execution_count": 50,
      "outputs": [
        {
          "output_type": "stream",
          "name": "stdout",
          "text": [
            "[500, 2, 3, 4, 5, 'harsh']\n"
          ]
        }
      ]
    },
    {
      "cell_type": "markdown",
      "source": [
        "**Storing list inside list** "
      ],
      "metadata": {
        "id": "KEHBnxIntVf3"
      }
    },
    {
      "cell_type": "code",
      "source": [
        "lst2 =[10,20,30]\n",
        "lst2.append(lst)"
      ],
      "metadata": {
        "id": "j_DqGph7stVb"
      },
      "execution_count": 51,
      "outputs": []
    },
    {
      "cell_type": "code",
      "source": [
        "print(lst2)"
      ],
      "metadata": {
        "colab": {
          "base_uri": "https://localhost:8080/"
        },
        "id": "fFRLTjT2thFv",
        "outputId": "99e9f1dd-4273-485c-81e2-b57572058672"
      },
      "execution_count": 52,
      "outputs": [
        {
          "output_type": "stream",
          "name": "stdout",
          "text": [
            "[10, 20, 30, [500, 2, 3, 4, 5, 'harsh']]\n"
          ]
        }
      ]
    },
    {
      "cell_type": "markdown",
      "source": [
        "**Duplicacy as 10 is printed again as we append**"
      ],
      "metadata": {
        "id": "lxoobkTFtyQh"
      }
    },
    {
      "cell_type": "code",
      "source": [
        "lst2.append(10)\n",
        "print(lst2)"
      ],
      "metadata": {
        "colab": {
          "base_uri": "https://localhost:8080/"
        },
        "id": "ayMGjOGttn_a",
        "outputId": "c855723a-6ab2-4e7b-9b8a-630bd371f002"
      },
      "execution_count": 53,
      "outputs": [
        {
          "output_type": "stream",
          "name": "stdout",
          "text": [
            "[10, 20, 30, [500, 2, 3, 4, 5, 'harsh'], 10]\n"
          ]
        }
      ]
    },
    {
      "cell_type": "markdown",
      "source": [
        "Here we can do the same functions for list as well:\n",
        "\n",
        "Slicing, indexing, looping, if else "
      ],
      "metadata": {
        "id": "gDhIMR0UuMhB"
      }
    },
    {
      "cell_type": "code",
      "source": [
        "lst[-1]\n"
      ],
      "metadata": {
        "colab": {
          "base_uri": "https://localhost:8080/",
          "height": 35
        },
        "id": "tCVuQwPcuA-s",
        "outputId": "62f590fb-0e95-4fd1-d54a-63092b48a349"
      },
      "execution_count": 54,
      "outputs": [
        {
          "output_type": "execute_result",
          "data": {
            "application/vnd.google.colaboratory.intrinsic+json": {
              "type": "string"
            },
            "text/plain": [
              "'harsh'"
            ]
          },
          "metadata": {},
          "execution_count": 54
        }
      ]
    },
    {
      "cell_type": "code",
      "source": [
        "lst[0:7:2]"
      ],
      "metadata": {
        "colab": {
          "base_uri": "https://localhost:8080/"
        },
        "id": "RnYZDtI3ufX-",
        "outputId": "dcc77e44-4cde-4ca9-892b-344fe713642c"
      },
      "execution_count": 55,
      "outputs": [
        {
          "output_type": "execute_result",
          "data": {
            "text/plain": [
              "[500, 3, 5]"
            ]
          },
          "metadata": {},
          "execution_count": 55
        }
      ]
    },
    {
      "cell_type": "markdown",
      "source": [
        "**Inserting function **"
      ],
      "metadata": {
        "id": "ZsQIOMLbuw6o"
      }
    },
    {
      "cell_type": "code",
      "source": [
        "lst.insert(2,\"pepcoding\")\n",
        "print(lst)"
      ],
      "metadata": {
        "colab": {
          "base_uri": "https://localhost:8080/"
        },
        "id": "nKY3jwq7ul_g",
        "outputId": "0b2a5af2-1fa0-4c41-ae4d-45805c60caac"
      },
      "execution_count": 56,
      "outputs": [
        {
          "output_type": "stream",
          "name": "stdout",
          "text": [
            "[500, 2, 'pepcoding', 3, 4, 5, 'harsh']\n"
          ]
        }
      ]
    },
    {
      "cell_type": "code",
      "source": [
        "lst.remove(500)"
      ],
      "metadata": {
        "id": "q62w4-equ6kl"
      },
      "execution_count": 57,
      "outputs": []
    },
    {
      "cell_type": "code",
      "source": [
        "print(lst)"
      ],
      "metadata": {
        "colab": {
          "base_uri": "https://localhost:8080/"
        },
        "id": "hG-fsgnvvHks",
        "outputId": "9f922ecc-382a-43cf-a71a-9411261a2712"
      },
      "execution_count": 58,
      "outputs": [
        {
          "output_type": "stream",
          "name": "stdout",
          "text": [
            "[2, 'pepcoding', 3, 4, 5, 'harsh']\n"
          ]
        }
      ]
    },
    {
      "cell_type": "markdown",
      "source": [
        "**Pop command returns the last value and prints it**"
      ],
      "metadata": {
        "id": "XM6zB6Rivc66"
      }
    },
    {
      "cell_type": "code",
      "source": [
        "lst.pop()"
      ],
      "metadata": {
        "colab": {
          "base_uri": "https://localhost:8080/",
          "height": 35
        },
        "id": "evbVR70_vN3W",
        "outputId": "0733c9ed-5fbf-4560-9451-fbadb8bcf199"
      },
      "execution_count": 59,
      "outputs": [
        {
          "output_type": "execute_result",
          "data": {
            "application/vnd.google.colaboratory.intrinsic+json": {
              "type": "string"
            },
            "text/plain": [
              "'harsh'"
            ]
          },
          "metadata": {},
          "execution_count": 59
        }
      ]
    },
    {
      "cell_type": "code",
      "source": [
        "print(lst.pop())"
      ],
      "metadata": {
        "colab": {
          "base_uri": "https://localhost:8080/"
        },
        "id": "kSNQ4O3dA9a9",
        "outputId": "6d3e35f2-a7ca-4d7a-86de-d8296e625adf"
      },
      "execution_count": 76,
      "outputs": [
        {
          "output_type": "stream",
          "name": "stdout",
          "text": [
            "4\n"
          ]
        }
      ]
    },
    {
      "cell_type": "code",
      "source": [
        "for i in lst:\n",
        "  print(i)"
      ],
      "metadata": {
        "colab": {
          "base_uri": "https://localhost:8080/"
        },
        "id": "ur2s96uPFFOL",
        "outputId": "a23a2b2b-1eb4-463f-b9ed-adfb4c7de6a5"
      },
      "execution_count": 77,
      "outputs": [
        {
          "output_type": "stream",
          "name": "stdout",
          "text": [
            "2\n",
            "pepcoding\n",
            "3\n"
          ]
        }
      ]
    },
    {
      "cell_type": "markdown",
      "source": [
        "**Tuple: ( )**.  -- **Read Only Type**\n",
        "\n",
        "1. **Immutable**: values cannot be changed, once tuple is formed it cannot be changed or appended the values\n",
        "\n",
        "2. **Indexed**: can be accessed by tup(1)\n",
        "\n",
        "3. **Ordered**: jis order meh dalogeh wahi order meh rahega, order change nai hota\n",
        "\n",
        "4.** Allows Duplicacy**:duplicate values can be added, tw values can be added in one tuple\n",
        "\n",
        "**5. Not Homogenious**: Can include different datatype values(int,string)\n",
        "\n",
        "6. Tuples can be created without paranthesis also.\n",
        "\n",
        "7. It is used in Matrix as the dimension of matrix is fixed and does not change, values in the matrix can be changed but matrix remains the same"
      ],
      "metadata": {
        "id": "OPMUcX_Fv-pu"
      }
    },
    {
      "cell_type": "code",
      "source": [
        "tup=(1,2,3,\"hello\")"
      ],
      "metadata": {
        "id": "BgwcjQu0vQyf"
      },
      "execution_count": 65,
      "outputs": []
    },
    {
      "cell_type": "code",
      "source": [
        "print(type(tup))"
      ],
      "metadata": {
        "colab": {
          "base_uri": "https://localhost:8080/"
        },
        "id": "rX31UiIZCYhJ",
        "outputId": "4331ffc8-92b7-43d5-c443-dcb415330c52"
      },
      "execution_count": 66,
      "outputs": [
        {
          "output_type": "stream",
          "name": "stdout",
          "text": [
            "<class 'tuple'>\n"
          ]
        }
      ]
    },
    {
      "cell_type": "code",
      "source": [
        "tup=10,20,40,\"harsh\""
      ],
      "metadata": {
        "id": "zmTi1bvXCfeF"
      },
      "execution_count": 67,
      "outputs": []
    },
    {
      "cell_type": "markdown",
      "source": [
        "For creating one size tuple we need to add comma after tuple otherwise it will assume it to be integer"
      ],
      "metadata": {
        "id": "sRjTUIhWDLlD"
      }
    },
    {
      "cell_type": "code",
      "source": [
        "tup2= 99,"
      ],
      "metadata": {
        "id": "R3-pDIceC0HQ"
      },
      "execution_count": 70,
      "outputs": []
    },
    {
      "cell_type": "code",
      "source": [
        "print(type(tup2))"
      ],
      "metadata": {
        "colab": {
          "base_uri": "https://localhost:8080/"
        },
        "id": "kZ56e_luDCVC",
        "outputId": "6810250a-9a50-4802-c628-5a8f7408b32b"
      },
      "execution_count": 71,
      "outputs": [
        {
          "output_type": "stream",
          "name": "stdout",
          "text": [
            "<class 'tuple'>\n"
          ]
        }
      ]
    },
    {
      "cell_type": "code",
      "source": [
        "print(tup[0])"
      ],
      "metadata": {
        "colab": {
          "base_uri": "https://localhost:8080/"
        },
        "id": "6ZiCye3kDER9",
        "outputId": "50fa2ba4-0055-4be8-dfc9-ebc4191d1b2c"
      },
      "execution_count": 72,
      "outputs": [
        {
          "output_type": "stream",
          "name": "stdout",
          "text": [
            "10\n"
          ]
        }
      ]
    },
    {
      "cell_type": "markdown",
      "source": [
        "We cannot change the values of type as it Immutable so the values once fixed is fixed and cannot be changed later"
      ],
      "metadata": {
        "id": "GOSRx3qeDlXO"
      }
    },
    {
      "cell_type": "code",
      "source": [
        "tup[0]=11"
      ],
      "metadata": {
        "colab": {
          "base_uri": "https://localhost:8080/",
          "height": 166
        },
        "id": "bgWMxOJ8DiNi",
        "outputId": "25799c77-711a-43d1-c044-0db51a72609f"
      },
      "execution_count": 73,
      "outputs": [
        {
          "output_type": "error",
          "ename": "TypeError",
          "evalue": "ignored",
          "traceback": [
            "\u001b[0;31m---------------------------------------------------------------------------\u001b[0m",
            "\u001b[0;31mTypeError\u001b[0m                                 Traceback (most recent call last)",
            "\u001b[0;32m<ipython-input-73-52935b0f1419>\u001b[0m in \u001b[0;36m<module>\u001b[0;34m()\u001b[0m\n\u001b[0;32m----> 1\u001b[0;31m \u001b[0mtup\u001b[0m\u001b[0;34m[\u001b[0m\u001b[0;36m0\u001b[0m\u001b[0;34m]\u001b[0m\u001b[0;34m=\u001b[0m\u001b[0;36m11\u001b[0m\u001b[0;34m\u001b[0m\u001b[0;34m\u001b[0m\u001b[0m\n\u001b[0m",
            "\u001b[0;31mTypeError\u001b[0m: 'tuple' object does not support item assignment"
          ]
        }
      ]
    },
    {
      "cell_type": "code",
      "source": [
        "for i in tup:\n",
        "  print(i)"
      ],
      "metadata": {
        "colab": {
          "base_uri": "https://localhost:8080/"
        },
        "id": "k8UOwY_ZD268",
        "outputId": "a95d85db-a0a1-4042-bd83-613d49106597"
      },
      "execution_count": 74,
      "outputs": [
        {
          "output_type": "stream",
          "name": "stdout",
          "text": [
            "10\n",
            "20\n",
            "40\n",
            "harsh\n"
          ]
        }
      ]
    },
    {
      "cell_type": "markdown",
      "source": [
        "**We cannot append the values in tuple as it is Immutable so values once fixed cannot be changed**"
      ],
      "metadata": {
        "id": "au-if_PIEU3u"
      }
    },
    {
      "cell_type": "code",
      "source": [
        "tup.append(5)"
      ],
      "metadata": {
        "colab": {
          "base_uri": "https://localhost:8080/",
          "height": 166
        },
        "id": "2F2YNXeqESsD",
        "outputId": "0463ca42-a953-482d-8067-e29c509059e3"
      },
      "execution_count": 75,
      "outputs": [
        {
          "output_type": "error",
          "ename": "AttributeError",
          "evalue": "ignored",
          "traceback": [
            "\u001b[0;31m---------------------------------------------------------------------------\u001b[0m",
            "\u001b[0;31mAttributeError\u001b[0m                            Traceback (most recent call last)",
            "\u001b[0;32m<ipython-input-75-4c22b886f1e9>\u001b[0m in \u001b[0;36m<module>\u001b[0;34m()\u001b[0m\n\u001b[0;32m----> 1\u001b[0;31m \u001b[0mtup\u001b[0m\u001b[0;34m.\u001b[0m\u001b[0mappend\u001b[0m\u001b[0;34m(\u001b[0m\u001b[0;36m5\u001b[0m\u001b[0;34m)\u001b[0m\u001b[0;34m\u001b[0m\u001b[0;34m\u001b[0m\u001b[0m\n\u001b[0m",
            "\u001b[0;31mAttributeError\u001b[0m: 'tuple' object has no attribute 'append'"
          ]
        }
      ]
    },
    {
      "cell_type": "markdown",
      "source": [
        "**SETS - { }**\n",
        "\n",
        "1. **Not Order**- Cannot reply on Order- joh apne first element dala joh first print hoke aye is not compulsory\n",
        "\n",
        "2. **Not Indexed**- as it is not ordered then it cannot be indexed\n",
        "\n",
        "3. **Cannot store multiple elements**\n",
        "\n",
        "5. **Hetereogenious**- Can include different datatype values\n",
        "\n",
        "6. **Sets are Immutable**- means we can add or remove values in sets but we cannot change the existing values in set(update), here we are not removing the values from the bucket but instead we are adding the new element in the new bucket and removing the odd one and not replacing it\n",
        "\n",
        "7. We cannot add any value in the set which is Immutable(List cannot be added in set but tuple can be added in set)\n",
        "\n",
        "8.No duplicacy allowed in sets\n",
        "\n",
        "9. we can add, remove and pop in set\n",
        "\n",
        "10. we cannot insert in set"
      ],
      "metadata": {
        "id": "-pbnhgTXPiE3"
      }
    },
    {
      "cell_type": "code",
      "source": [
        "st= {\"Apple\", \"Banana\", \"mango\"}"
      ],
      "metadata": {
        "id": "RwEqbvb3PhI8"
      },
      "execution_count": 78,
      "outputs": []
    },
    {
      "cell_type": "code",
      "source": [
        "print(st)"
      ],
      "metadata": {
        "colab": {
          "base_uri": "https://localhost:8080/"
        },
        "id": "JutlDtWbEhTz",
        "outputId": "1490e299-4e34-49b5-8dc8-89818d52fba1"
      },
      "execution_count": 79,
      "outputs": [
        {
          "output_type": "stream",
          "name": "stdout",
          "text": [
            "{'Banana', 'Apple', 'mango'}\n"
          ]
        }
      ]
    },
    {
      "cell_type": "markdown",
      "source": [
        "As it is not ordered so we cannot find its index as well"
      ],
      "metadata": {
        "id": "mrBEZ1lHRBNE"
      }
    },
    {
      "cell_type": "code",
      "source": [
        "st[0]"
      ],
      "metadata": {
        "colab": {
          "base_uri": "https://localhost:8080/",
          "height": 166
        },
        "id": "ksoEmi80QqMx",
        "outputId": "5479b3ba-e862-436d-95c2-f092a54d34ce"
      },
      "execution_count": 82,
      "outputs": [
        {
          "output_type": "error",
          "ename": "TypeError",
          "evalue": "ignored",
          "traceback": [
            "\u001b[0;31m---------------------------------------------------------------------------\u001b[0m",
            "\u001b[0;31mTypeError\u001b[0m                                 Traceback (most recent call last)",
            "\u001b[0;32m<ipython-input-82-028cc1d9138b>\u001b[0m in \u001b[0;36m<module>\u001b[0;34m()\u001b[0m\n\u001b[0;32m----> 1\u001b[0;31m \u001b[0mst\u001b[0m\u001b[0;34m[\u001b[0m\u001b[0;36m0\u001b[0m\u001b[0;34m]\u001b[0m\u001b[0;34m\u001b[0m\u001b[0;34m\u001b[0m\u001b[0m\n\u001b[0m",
            "\u001b[0;31mTypeError\u001b[0m: 'set' object is not subscriptable"
          ]
        }
      ]
    },
    {
      "cell_type": "markdown",
      "source": [
        "**Cannot store Multiple values: here banana is printed only once though we added 2 times**"
      ],
      "metadata": {
        "id": "DSUBZ5n-RP1a"
      }
    },
    {
      "cell_type": "markdown",
      "source": [
        "st= {\"Apple\", \"Banana\", \"mango\",\"Banana\"}"
      ],
      "metadata": {
        "id": "8SkyHzILRYPT"
      }
    },
    {
      "cell_type": "code",
      "source": [
        "print(st)"
      ],
      "metadata": {
        "colab": {
          "base_uri": "https://localhost:8080/"
        },
        "id": "z0kUfmesQ8ei",
        "outputId": "45a175ac-aaf1-45d2-d987-ecc84dc4c7e2"
      },
      "execution_count": 83,
      "outputs": [
        {
          "output_type": "stream",
          "name": "stdout",
          "text": [
            "{'Banana', 'Apple', 'mango'}\n"
          ]
        }
      ]
    },
    {
      "cell_type": "markdown",
      "source": [
        "Set is Heterogeious"
      ],
      "metadata": {
        "id": "sQosvvZgRpdU"
      }
    },
    {
      "cell_type": "code",
      "source": [
        "st= {\"Apple\", \"Banana\", \"mango\",\"Banana\",5,10.5}"
      ],
      "metadata": {
        "id": "bBOtHm7tRhHr"
      },
      "execution_count": 84,
      "outputs": []
    },
    {
      "cell_type": "code",
      "source": [
        "print(st)"
      ],
      "metadata": {
        "colab": {
          "base_uri": "https://localhost:8080/"
        },
        "id": "T9QWLeqjRvuj",
        "outputId": "cb834dd1-5c7a-4f00-896a-c5264257b184"
      },
      "execution_count": 85,
      "outputs": [
        {
          "output_type": "stream",
          "name": "stdout",
          "text": [
            "{5, 'Apple', 10.5, 'mango', 'Banana'}\n"
          ]
        }
      ]
    },
    {
      "cell_type": "code",
      "source": [
        "st.add(\"orange\")"
      ],
      "metadata": {
        "id": "kdBqbXoKRxRX"
      },
      "execution_count": 86,
      "outputs": []
    },
    {
      "cell_type": "code",
      "source": [
        "st.remove(\"Banana\")"
      ],
      "metadata": {
        "id": "prsdJZxFTd8X"
      },
      "execution_count": 87,
      "outputs": []
    },
    {
      "cell_type": "code",
      "source": [
        "print(st)"
      ],
      "metadata": {
        "colab": {
          "base_uri": "https://localhost:8080/"
        },
        "id": "y7R-N6TfTh2t",
        "outputId": "a3e93511-518e-4022-a4aa-b16050dd38ff"
      },
      "execution_count": 88,
      "outputs": [
        {
          "output_type": "stream",
          "name": "stdout",
          "text": [
            "{5, 'Apple', 10.5, 'mango', 'orange'}\n"
          ]
        }
      ]
    },
    {
      "cell_type": "markdown",
      "source": [
        "Here we cannot store List in Set as it is Mutable ie. in list values can be changed but in sets values should not be changed"
      ],
      "metadata": {
        "id": "r9rElbjyUg9M"
      }
    },
    {
      "cell_type": "code",
      "source": [
        "st={1,2,3,[\"Apple\",\"orange\"]}"
      ],
      "metadata": {
        "colab": {
          "base_uri": "https://localhost:8080/",
          "height": 166
        },
        "id": "v1RXfkWFTiuz",
        "outputId": "2b32112f-c0be-42ee-9cdc-783ff3751186"
      },
      "execution_count": 91,
      "outputs": [
        {
          "output_type": "error",
          "ename": "TypeError",
          "evalue": "ignored",
          "traceback": [
            "\u001b[0;31m---------------------------------------------------------------------------\u001b[0m",
            "\u001b[0;31mTypeError\u001b[0m                                 Traceback (most recent call last)",
            "\u001b[0;32m<ipython-input-91-40c07b249afa>\u001b[0m in \u001b[0;36m<module>\u001b[0;34m()\u001b[0m\n\u001b[0;32m----> 1\u001b[0;31m \u001b[0mst\u001b[0m\u001b[0;34m=\u001b[0m\u001b[0;34m{\u001b[0m\u001b[0;36m1\u001b[0m\u001b[0;34m,\u001b[0m\u001b[0;36m2\u001b[0m\u001b[0;34m,\u001b[0m\u001b[0;36m3\u001b[0m\u001b[0;34m,\u001b[0m\u001b[0;34m[\u001b[0m\u001b[0;34m\"Apple\"\u001b[0m\u001b[0;34m,\u001b[0m\u001b[0;34m\"orange\"\u001b[0m\u001b[0;34m]\u001b[0m\u001b[0;34m}\u001b[0m\u001b[0;34m\u001b[0m\u001b[0;34m\u001b[0m\u001b[0m\n\u001b[0m",
            "\u001b[0;31mTypeError\u001b[0m: unhashable type: 'list'"
          ]
        }
      ]
    },
    {
      "cell_type": "markdown",
      "source": [
        "Here we can store Tuple inside the sets as tuples is Immutable ie. values cannot be updated"
      ],
      "metadata": {
        "id": "GG7nvncDUxvu"
      }
    },
    {
      "cell_type": "code",
      "source": [
        "st={1,2,3,4,5,(\"harsh\",\"Kishor\",\"mandviya\")}"
      ],
      "metadata": {
        "id": "GTOCHZ0qUPi2"
      },
      "execution_count": 92,
      "outputs": []
    },
    {
      "cell_type": "code",
      "source": [
        "print(st)"
      ],
      "metadata": {
        "colab": {
          "base_uri": "https://localhost:8080/"
        },
        "id": "dkOFvnZ4VF0O",
        "outputId": "fabee72f-996e-4257-d89b-5fcbf51fa994"
      },
      "execution_count": 93,
      "outputs": [
        {
          "output_type": "stream",
          "name": "stdout",
          "text": [
            "{1, 2, 3, 4, 5, ('harsh', 'Kishor', 'mandviya')}\n"
          ]
        }
      ]
    },
    {
      "cell_type": "code",
      "source": [
        "for x in st:\n",
        "  print(x)"
      ],
      "metadata": {
        "colab": {
          "base_uri": "https://localhost:8080/"
        },
        "id": "rwn0-792VHk_",
        "outputId": "e2fd6936-8b47-4b55-e96b-f405f8f5851b"
      },
      "execution_count": 94,
      "outputs": [
        {
          "output_type": "stream",
          "name": "stdout",
          "text": [
            "1\n",
            "2\n",
            "3\n",
            "4\n",
            "5\n",
            "('harsh', 'Kishor', 'mandviya')\n"
          ]
        }
      ]
    },
    {
      "cell_type": "markdown",
      "source": [
        "pop removes one of the random values from the set and throws back to us"
      ],
      "metadata": {
        "id": "qQy-GaNGWKqH"
      }
    },
    {
      "cell_type": "code",
      "source": [
        "st.pop()"
      ],
      "metadata": {
        "colab": {
          "base_uri": "https://localhost:8080/"
        },
        "id": "WGF3ORptVWlq",
        "outputId": "2dee4d82-7e7a-49f5-8ed3-89519e065e65"
      },
      "execution_count": 97,
      "outputs": [
        {
          "output_type": "execute_result",
          "data": {
            "text/plain": [
              "1"
            ]
          },
          "metadata": {},
          "execution_count": 97
        }
      ]
    },
    {
      "cell_type": "markdown",
      "source": [
        "clear will clear all the values from the set and making it empty set"
      ],
      "metadata": {
        "id": "3HWGqCQZWR8V"
      }
    },
    {
      "cell_type": "code",
      "source": [
        "st.clear()"
      ],
      "metadata": {
        "id": "xaAhI0pOWEnO"
      },
      "execution_count": 100,
      "outputs": []
    },
    {
      "cell_type": "code",
      "source": [
        "print(st)"
      ],
      "metadata": {
        "colab": {
          "base_uri": "https://localhost:8080/"
        },
        "id": "CFWA2FPcWWU_",
        "outputId": "66679faf-b063-4866-961e-9bc95dd79a5d"
      },
      "execution_count": 101,
      "outputs": [
        {
          "output_type": "stream",
          "name": "stdout",
          "text": [
            "set()\n"
          ]
        }
      ]
    },
    {
      "cell_type": "markdown",
      "source": [
        "Deleting set: it will remove the entire set and delete it from the dataset and wil print st is not defined"
      ],
      "metadata": {
        "id": "s1RcL2vbW0JK"
      }
    },
    {
      "cell_type": "code",
      "source": [
        "del st"
      ],
      "metadata": {
        "id": "ktN9ubnaW6fH"
      },
      "execution_count": 103,
      "outputs": []
    },
    {
      "cell_type": "code",
      "source": [
        "print(st)"
      ],
      "metadata": {
        "colab": {
          "base_uri": "https://localhost:8080/",
          "height": 166
        },
        "id": "4k8HOXn2XFAR",
        "outputId": "40c82634-265d-4066-bacd-c674e0166cfa"
      },
      "execution_count": 104,
      "outputs": [
        {
          "output_type": "error",
          "ename": "NameError",
          "evalue": "ignored",
          "traceback": [
            "\u001b[0;31m---------------------------------------------------------------------------\u001b[0m",
            "\u001b[0;31mNameError\u001b[0m                                 Traceback (most recent call last)",
            "\u001b[0;32m<ipython-input-104-7906f3753e9a>\u001b[0m in \u001b[0;36m<module>\u001b[0;34m()\u001b[0m\n\u001b[0;32m----> 1\u001b[0;31m \u001b[0mprint\u001b[0m\u001b[0;34m(\u001b[0m\u001b[0mst\u001b[0m\u001b[0;34m)\u001b[0m\u001b[0;34m\u001b[0m\u001b[0;34m\u001b[0m\u001b[0m\n\u001b[0m",
            "\u001b[0;31mNameError\u001b[0m: name 'st' is not defined"
          ]
        }
      ]
    },
    {
      "cell_type": "markdown",
      "source": [
        "**Union in set**"
      ],
      "metadata": {
        "id": "ZHzNrXcIXcLB"
      }
    },
    {
      "cell_type": "code",
      "source": [
        "set1={1,2,3,4,5}\n",
        "set2= {10,20,30,40}"
      ],
      "metadata": {
        "id": "QXdlGDuFXMI-"
      },
      "execution_count": 105,
      "outputs": []
    },
    {
      "cell_type": "code",
      "source": [
        "print(set1.union(set2))"
      ],
      "metadata": {
        "colab": {
          "base_uri": "https://localhost:8080/"
        },
        "id": "rHdwCRL9Xle7",
        "outputId": "c55e5a27-7802-456d-a9a6-0b2173885767"
      },
      "execution_count": 106,
      "outputs": [
        {
          "output_type": "stream",
          "name": "stdout",
          "text": [
            "{1, 2, 3, 4, 5, 40, 10, 20, 30}\n"
          ]
        }
      ]
    },
    {
      "cell_type": "code",
      "source": [
        ""
      ],
      "metadata": {
        "id": "ziSnYf0aXrIa"
      },
      "execution_count": null,
      "outputs": []
    }
  ]
}